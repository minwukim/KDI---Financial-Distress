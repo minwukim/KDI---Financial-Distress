{
 "cells": [
  {
   "cell_type": "markdown",
   "id": "94c5debe",
   "metadata": {},
   "source": [
    "# Basic Analysis of Survey Data - Mental Health & Happiness"
   ]
  },
  {
   "cell_type": "markdown",
   "id": "f9063300",
   "metadata": {},
   "source": [
    "## 1. Import data"
   ]
  },
  {
   "cell_type": "code",
   "execution_count": 1,
   "id": "0af9d3c2",
   "metadata": {},
   "outputs": [],
   "source": [
    "# import necessary packages\n",
    "import numpy as np\n",
    "import pandas as pd\n",
    "import matplotlib.pyplot as plt\n",
    "import seaborn as sns"
   ]
  },
  {
   "cell_type": "code",
   "execution_count": 2,
   "id": "6d35dd47",
   "metadata": {},
   "outputs": [],
   "source": [
    "# import csv file to pandas df\n",
    "csv_file_path = '2020_survey_data.csv'\n",
    "df = pd.read_csv(csv_file_path)"
   ]
  },
  {
   "cell_type": "code",
   "execution_count": 3,
   "id": "c50722e7",
   "metadata": {},
   "outputs": [
    {
     "data": {
      "text/html": [
       "<div>\n",
       "<style scoped>\n",
       "    .dataframe tbody tr th:only-of-type {\n",
       "        vertical-align: middle;\n",
       "    }\n",
       "\n",
       "    .dataframe tbody tr th {\n",
       "        vertical-align: top;\n",
       "    }\n",
       "\n",
       "    .dataframe thead th {\n",
       "        text-align: right;\n",
       "    }\n",
       "</style>\n",
       "<table border=\"1\" class=\"dataframe\">\n",
       "  <thead>\n",
       "    <tr style=\"text-align: right;\">\n",
       "      <th></th>\n",
       "      <th>PID</th>\n",
       "      <th>HNO</th>\n",
       "      <th>AREA</th>\n",
       "      <th>EDM</th>\n",
       "      <th>ANS_TYPE</th>\n",
       "      <th>ANS_SUB1</th>\n",
       "      <th>ANS_SUB2</th>\n",
       "      <th>ANS_SUB3</th>\n",
       "      <th>S9_0</th>\n",
       "      <th>S9_2</th>\n",
       "      <th>...</th>\n",
       "      <th>RES_YY</th>\n",
       "      <th>RES_MM</th>\n",
       "      <th>RES_AGE</th>\n",
       "      <th>RES_MAR</th>\n",
       "      <th>RES_EDU1</th>\n",
       "      <th>RES_EDU2</th>\n",
       "      <th>RES_YN</th>\n",
       "      <th>RES_SUB</th>\n",
       "      <th>f_wgt1</th>\n",
       "      <th>s_wgt1</th>\n",
       "    </tr>\n",
       "  </thead>\n",
       "  <tbody>\n",
       "    <tr>\n",
       "      <th>0</th>\n",
       "      <td>7501</td>\n",
       "      <td>1</td>\n",
       "      <td>35</td>\n",
       "      <td>2</td>\n",
       "      <td>0</td>\n",
       "      <td>99</td>\n",
       "      <td>999</td>\n",
       "      <td>1</td>\n",
       "      <td>0</td>\n",
       "      <td>99</td>\n",
       "      <td>...</td>\n",
       "      <td>1952</td>\n",
       "      <td>10</td>\n",
       "      <td>67</td>\n",
       "      <td>1</td>\n",
       "      <td>4</td>\n",
       "      <td>9</td>\n",
       "      <td>1</td>\n",
       "      <td>9</td>\n",
       "      <td>393.325736</td>\n",
       "      <td>0.512734</td>\n",
       "    </tr>\n",
       "    <tr>\n",
       "      <th>1</th>\n",
       "      <td>7601</td>\n",
       "      <td>1</td>\n",
       "      <td>35</td>\n",
       "      <td>2</td>\n",
       "      <td>0</td>\n",
       "      <td>99</td>\n",
       "      <td>999</td>\n",
       "      <td>1</td>\n",
       "      <td>0</td>\n",
       "      <td>99</td>\n",
       "      <td>...</td>\n",
       "      <td>1951</td>\n",
       "      <td>12</td>\n",
       "      <td>68</td>\n",
       "      <td>3</td>\n",
       "      <td>2</td>\n",
       "      <td>0</td>\n",
       "      <td>1</td>\n",
       "      <td>9</td>\n",
       "      <td>393.325736</td>\n",
       "      <td>0.512734</td>\n",
       "    </tr>\n",
       "    <tr>\n",
       "      <th>2</th>\n",
       "      <td>7802</td>\n",
       "      <td>2</td>\n",
       "      <td>23</td>\n",
       "      <td>1</td>\n",
       "      <td>0</td>\n",
       "      <td>99</td>\n",
       "      <td>999</td>\n",
       "      <td>1</td>\n",
       "      <td>1</td>\n",
       "      <td>1</td>\n",
       "      <td>...</td>\n",
       "      <td>1954</td>\n",
       "      <td>3</td>\n",
       "      <td>66</td>\n",
       "      <td>2</td>\n",
       "      <td>5</td>\n",
       "      <td>12</td>\n",
       "      <td>1</td>\n",
       "      <td>9</td>\n",
       "      <td>587.163656</td>\n",
       "      <td>0.765418</td>\n",
       "    </tr>\n",
       "    <tr>\n",
       "      <th>3</th>\n",
       "      <td>7801</td>\n",
       "      <td>1</td>\n",
       "      <td>23</td>\n",
       "      <td>1</td>\n",
       "      <td>0</td>\n",
       "      <td>99</td>\n",
       "      <td>999</td>\n",
       "      <td>1</td>\n",
       "      <td>0</td>\n",
       "      <td>99</td>\n",
       "      <td>...</td>\n",
       "      <td>1954</td>\n",
       "      <td>1</td>\n",
       "      <td>66</td>\n",
       "      <td>2</td>\n",
       "      <td>5</td>\n",
       "      <td>12</td>\n",
       "      <td>1</td>\n",
       "      <td>9</td>\n",
       "      <td>640.643430</td>\n",
       "      <td>0.835133</td>\n",
       "    </tr>\n",
       "    <tr>\n",
       "      <th>4</th>\n",
       "      <td>8001</td>\n",
       "      <td>1</td>\n",
       "      <td>35</td>\n",
       "      <td>1</td>\n",
       "      <td>0</td>\n",
       "      <td>99</td>\n",
       "      <td>999</td>\n",
       "      <td>1</td>\n",
       "      <td>0</td>\n",
       "      <td>99</td>\n",
       "      <td>...</td>\n",
       "      <td>1951</td>\n",
       "      <td>12</td>\n",
       "      <td>68</td>\n",
       "      <td>3</td>\n",
       "      <td>3</td>\n",
       "      <td>6</td>\n",
       "      <td>1</td>\n",
       "      <td>9</td>\n",
       "      <td>493.769927</td>\n",
       "      <td>0.643671</td>\n",
       "    </tr>\n",
       "  </tbody>\n",
       "</table>\n",
       "<p>5 rows × 915 columns</p>\n",
       "</div>"
      ],
      "text/plain": [
       "    PID  HNO  AREA  EDM  ANS_TYPE  ANS_SUB1  ANS_SUB2  ANS_SUB3  S9_0  S9_2  \\\n",
       "0  7501    1    35    2         0        99       999         1     0    99   \n",
       "1  7601    1    35    2         0        99       999         1     0    99   \n",
       "2  7802    2    23    1         0        99       999         1     1     1   \n",
       "3  7801    1    23    1         0        99       999         1     0    99   \n",
       "4  8001    1    35    1         0        99       999         1     0    99   \n",
       "\n",
       "   ...  RES_YY  RES_MM  RES_AGE  RES_MAR  RES_EDU1  RES_EDU2  RES_YN  RES_SUB  \\\n",
       "0  ...    1952      10       67        1         4         9       1        9   \n",
       "1  ...    1951      12       68        3         2         0       1        9   \n",
       "2  ...    1954       3       66        2         5        12       1        9   \n",
       "3  ...    1954       1       66        2         5        12       1        9   \n",
       "4  ...    1951      12       68        3         3         6       1        9   \n",
       "\n",
       "       f_wgt1    s_wgt1  \n",
       "0  393.325736  0.512734  \n",
       "1  393.325736  0.512734  \n",
       "2  587.163656  0.765418  \n",
       "3  640.643430  0.835133  \n",
       "4  493.769927  0.643671  \n",
       "\n",
       "[5 rows x 915 columns]"
      ]
     },
     "execution_count": 3,
     "metadata": {},
     "output_type": "execute_result"
    }
   ],
   "source": [
    "df.head()"
   ]
  },
  {
   "cell_type": "code",
   "execution_count": 4,
   "id": "34cb0a7c",
   "metadata": {},
   "outputs": [
    {
     "data": {
      "text/plain": [
       "(10097, 915)"
      ]
     },
     "execution_count": 4,
     "metadata": {},
     "output_type": "execute_result"
    }
   ],
   "source": [
    "df.shape"
   ]
  },
  {
   "cell_type": "markdown",
   "id": "b9aef227",
   "metadata": {},
   "source": [
    "## 2. Data Preprocessing"
   ]
  },
  {
   "cell_type": "markdown",
   "id": "1c034cfa",
   "metadata": {},
   "source": [
    "### 2-1. B6의 삶의 만족도(우울증 조사) 부분 설문조사 총점 합산하기\n",
    "\n",
    "- 1,5,7,11문항은 1->1점, 2->0점 \n",
    "- 2,3,4,6,8,9,12,14,15문항은 1->0점, 2->1점\n",
    "- 10,13 제외 (심리상태보다 객관적 신체조건에 대한 질문인 것 같아 제외함)"
   ]
  },
  {
   "cell_type": "code",
   "execution_count": 5,
   "id": "c92df312",
   "metadata": {},
   "outputs": [],
   "source": [
    "# Filter columns of interest except B6_10, B6_13\n",
    "cols = df.filter(regex='^B6_[^1013]$').columns\n",
    "\n",
    "# Check if any of the columns in each row contains a 9\n",
    "contains_9 = df[cols].isin([9]).any(axis=1)\n",
    "\n",
    "# Drop rows where at least one column contains a 9\n",
    "df = df.loc[~contains_9]"
   ]
  },
  {
   "cell_type": "code",
   "execution_count": 6,
   "id": "6a0f4fbb",
   "metadata": {},
   "outputs": [
    {
     "data": {
      "text/plain": [
       "(9920, 915)"
      ]
     },
     "execution_count": 6,
     "metadata": {},
     "output_type": "execute_result"
    }
   ],
   "source": [
    "df.shape"
   ]
  },
  {
   "cell_type": "code",
   "execution_count": 7,
   "id": "1353afeb",
   "metadata": {},
   "outputs": [],
   "source": [
    "# For \"B6_X\", where X is one of 2,3,4,6,8,9,12,14,15, if the value is 1, change it to 0. If it is 2, change it to 1.\n",
    "cols_1 = [\"B6_2\", \"B6_3\", \"B6_4\", \"B6_6\", \"B6_8\", \"B6_9\", \"B6_12\", \"B6_14\", \"B6_15\"]\n",
    "df[cols_1] = df[cols_1].replace({1 : 0, 2 : 1})\n",
    "\n",
    "# For \"B6_X\", where X is one of 1,5,7,11, if the value is 1, leave it as 1. If it is 2, change it to 0.\n",
    "cols_2 = [\"B6_1\", \"B6_5\", \"B6_7\", \"B6_11\"]\n",
    "df[cols_2] = df[cols_2].replace({2: 0})\n",
    "\n",
    "# Add a column named \"mental_health_score\", which is the sum of all these columns except B6_10 and B6_13\n",
    "cols_to_sum = cols_1 + cols_2\n",
    "df['mental_health_score'] = df[cols_to_sum].sum(axis=1)\n"
   ]
  },
  {
   "cell_type": "markdown",
   "id": "e4dcacf5",
   "metadata": {},
   "source": [
    "#### 정신건강 점수 분포"
   ]
  },
  {
   "cell_type": "code",
   "execution_count": 8,
   "id": "a511eaee",
   "metadata": {},
   "outputs": [
    {
     "data": {
      "text/plain": [
       "count    9920.000000\n",
       "mean       10.236895\n",
       "std         2.991794\n",
       "min         0.000000\n",
       "25%         9.000000\n",
       "50%        11.000000\n",
       "75%        13.000000\n",
       "max        13.000000\n",
       "Name: mental_health_score, dtype: float64"
      ]
     },
     "execution_count": 8,
     "metadata": {},
     "output_type": "execute_result"
    }
   ],
   "source": [
    "df['mental_health_score'].describe()"
   ]
  },
  {
   "cell_type": "code",
   "execution_count": 9,
   "id": "789ddbc5",
   "metadata": {},
   "outputs": [
    {
     "data": {
      "image/png": "[encoded data removed]",
      "text/plain": [
       "<Figure size 720x432 with 1 Axes>"
      ]
     },
     "metadata": {
      "needs_background": "light"
     },
     "output_type": "display_data"
    }
   ],
   "source": [
    "plt.figure(figsize=(10, 6))\n",
    "sns.histplot(df['mental_health_score'],bins=30)\n",
    "plt.title('Distribution of Mental Health Score')\n",
    "plt.xlabel('Mental Health Score')\n",
    "plt.show()"
   ]
  },
  {
   "attachments": {},
   "cell_type": "markdown",
   "id": "25daa703",
   "metadata": {},
   "source": [
    "중요 covariates:\n",
    "- B2_3: 의사진단 만성질환 총 수\n",
    "- S5_1: 가구원 수\n",
    "- B9_1a: 운동 빈도(일)_(일주일 기준)(9는 결측처리)\n",
    "- B9_2a: 운동 시간(분)_(1회 기준) (999는 결측처리)\n",
    "- E1_6: 월소득\n",
    "- total equity: 부동산 + 금융자산 + 기타자산 - 부채\n",
    "\n",
    "\n",
    "df['total_equity'] = df['J6b_1'] + df['J6b_2'] + df['J6b_3'] - df['J6b_4']"
   ]
  },
  {
   "cell_type": "markdown",
   "id": "a9865d5b",
   "metadata": {},
   "source": [
    "### 2-2 데이터 사칙연산(?!)"
   ]
  },
  {
   "cell_type": "code",
   "execution_count": 12,
   "id": "d9164387",
   "metadata": {},
   "outputs": [],
   "source": [
    "# 1. 가구 총 수입액, 월평균 소비지출액, 월평균 주거비 지출액, 월소득 결측치 제거\n",
    "df = df[df[\"J3b_3_13\"] != 999998]\n",
    "df = df[df[\"J3b_3_13\"] != 999999]\n",
    "df = df[df[\"J4\"] != 999998]\n",
    "df = df[df[\"J4\"] != 999999]\n",
    "df = df[df[\"J4_1\"] != 999998]\n",
    "df = df[df[\"J4_1\"] != 999999]\n",
    "df = df[df[\"E1_6\"] != 99998]\n",
    "df = df[df[\"E1_6\"] != 99999]\n",
    "# 2. 부동산 자산 금액, 금융자산 금액, 기타자산 금액, 부채 금액 결측치 제거\n",
    "df = df[df[\"J6b_1\"] != 999998]\n",
    "df = df[df[\"J6b_1\"] != 999999]\n",
    "df = df[df[\"J6b_2\"] != 999998]\n",
    "df = df[df[\"J6b_2\"] != 999999]\n",
    "df = df[df[\"J6b_3\"] != 999998]\n",
    "df = df[df[\"J6b_3\"] != 999999]\n",
    "df = df[df[\"J6b_4\"] != 999998]\n",
    "df = df[df[\"J6b_4\"] != 999999]"
   ]
  },
  {
   "cell_type": "code",
   "execution_count": 14,
   "id": "86dc15ad",
   "metadata": {},
   "outputs": [],
   "source": [
    "# 부동산 자산  + 금융자산 + 기타자산 - 부채 금액\n",
    "df['total_equity'] = df['J6b_1'] + df['J6b_2'] + df['J6b_3'] - df['J6b_4']\n",
    "# 가구 월평균 주거비/ 월평균 총소비\n",
    "df['rent_portion'] = df['J4_1']/df['J4']\n",
    "# 월평균 총소비 - 월평균 주거비\n",
    "df['monthly_spending_no_rent'] = df['J4'] - df['J4_1']\n",
    "#(월평균 총소비 - 월평균 주거비) / 가구수\n",
    "df['monthly_spending_no_rent_per_capita'] = df['monthly_spending_no_rent']/df['S5_1']"
   ]
  },
  {
   "cell_type": "markdown",
   "id": "c9935340",
   "metadata": {},
   "source": [
    "## 3. Data Visualization"
   ]
  },
  {
   "cell_type": "code",
   "execution_count": 16,
   "id": "8b739756",
   "metadata": {},
   "outputs": [
    {
     "data": {
      "image/png": "[encoded data removed]",
      "text/plain": [
       "<Figure size 432x288 with 1 Axes>"
      ]
     },
     "metadata": {
      "needs_background": "light"
     },
     "output_type": "display_data"
    }
   ],
   "source": [
    "x = df[\"monthly_spending_no_rent_per_capita\"]\n",
    "y = df[\"mental_health_score\"]\n",
    "\n",
    "# Plot the graph\n",
    "plt.scatter(x, y)\n",
    "plt.xlabel(\"Monthly Spending (No Rent) per Capita\")\n",
    "plt.ylabel(\"Mental Health Score\")\n",
    "plt.title(\"Relationship between Monthly Spending and Mental Health\")\n",
    "plt.show()"
   ]
  },
  {
   "cell_type": "code",
   "execution_count": 18,
   "id": "c0a8081e",
   "metadata": {},
   "outputs": [
    {
     "data": {
      "image/png": "[encoded data removed]",
      "text/plain": [
       "<Figure size 432x288 with 1 Axes>"
      ]
     },
     "metadata": {
      "needs_background": "light"
     },
     "output_type": "display_data"
    }
   ],
   "source": [
    "x = df[\"total_equity\"]\n",
    "y = df[\"mental_health_score\"]\n",
    "\n",
    "# Plot the graph\n",
    "plt.scatter(x, y)\n",
    "plt.xlabel(\"total equity\")\n",
    "plt.ylabel(\"Mental Health Score\")\n",
    "plt.title(\"Relationship between Monthly Spending and Mental Health\")\n",
    "plt.show()"
   ]
  },
  {
   "cell_type": "code",
   "execution_count": 20,
   "id": "6a23a8ca",
   "metadata": {},
   "outputs": [
    {
     "data": {
      "image/png": "[encoded data removed]",
      "text/plain": [
       "<Figure size 432x288 with 1 Axes>"
      ]
     },
     "metadata": {
      "needs_background": "light"
     },
     "output_type": "display_data"
    }
   ],
   "source": [
    "x = df[\"RES_AGE\"]\n",
    "y = df[\"mental_health_score\"]\n",
    "\n",
    "# Plot the graph\n",
    "plt.scatter(x, y)\n",
    "plt.xlabel(\"age\")\n",
    "plt.ylabel(\"Mental Health Score\")\n",
    "plt.title(\"Relationship between Monthly Spending and Mental Health\")\n",
    "plt.show()"
   ]
  },
  {
   "cell_type": "code",
   "execution_count": null,
   "id": "938dfb65",
   "metadata": {},
   "outputs": [],
   "source": []
  }
 ],
 "metadata": {
  "kernelspec": {
   "display_name": "Python 3 (ipykernel)",
   "language": "python",
   "name": "python3"
  },
  "language_info": {
   "codemirror_mode": {
    "name": "ipython",
    "version": 3
   },
   "file_extension": ".py",
   "mimetype": "text/x-python",
   "name": "python",
   "nbconvert_exporter": "python",
   "pygments_lexer": "ipython3",
   "version": "3.9.12"
  }
 },
 "nbformat": 4,
 "nbformat_minor": 5
}

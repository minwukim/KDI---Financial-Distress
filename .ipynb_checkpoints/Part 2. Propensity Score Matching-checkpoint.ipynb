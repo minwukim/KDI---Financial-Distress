{
 "cells": [
  {
   "cell_type": "markdown",
   "id": "cf336b4a",
   "metadata": {},
   "source": [
    "# Part 2. Propensity Score Matching"
   ]
  },
  {
   "cell_type": "code",
   "execution_count": 42,
   "id": "f53317e0",
   "metadata": {},
   "outputs": [],
   "source": [
    "import numpy as np\n",
    "import pandas as pd\n",
    "import matplotlib.pyplot as plt\n",
    "import pyreadstat\n",
    "import seaborn as sns\n",
    "from scipy import stats\n",
    "import shap\n",
    "#!pip install xgboost\n",
    "import seaborn as sns\n",
    "from xgboost import XGBClassifier\n",
    "from sklearn.neighbors import NearestNeighbors\n",
    "from sklearn.model_selection import StratifiedKFold\n",
    "from scipy.stats import ttest_ind\n",
    "from sklearn.metrics import roc_auc_score\n",
    "from sklearn.preprocessing import MinMaxScaler\n",
    "import statsmodels.api as sm\n",
    "\n",
    "from econml.orf import DMLOrthoForest, DROrthoForest\n",
    "from econml.dml import CausalForestDML\n",
    "from econml.sklearn_extensions.linear_model import WeightedLassoCVWrapper, WeightedLasso, WeightedLassoCV\n",
    "\n",
    "from itertools import product\n",
    "from sklearn.linear_model import Lasso, LassoCV, LogisticRegression, LogisticRegressionCV\n",
    "import matplotlib.pyplot as plt\n",
    "\n",
    "%matplotlib inline"
   ]
  },
  {
   "cell_type": "code",
   "execution_count": 16,
   "id": "9e11d12f",
   "metadata": {},
   "outputs": [
    {
     "data": {
      "text/html": [
       "<div>\n",
       "<style scoped>\n",
       "    .dataframe tbody tr th:only-of-type {\n",
       "        vertical-align: middle;\n",
       "    }\n",
       "\n",
       "    .dataframe tbody tr th {\n",
       "        vertical-align: top;\n",
       "    }\n",
       "\n",
       "    .dataframe thead th {\n",
       "        text-align: right;\n",
       "    }\n",
       "</style>\n",
       "<table border=\"1\" class=\"dataframe\">\n",
       "  <thead>\n",
       "    <tr style=\"text-align: right;\">\n",
       "      <th></th>\n",
       "      <th>RES_AGE</th>\n",
       "      <th>RES_SEX</th>\n",
       "      <th>B1</th>\n",
       "      <th>B3</th>\n",
       "      <th>B4</th>\n",
       "      <th>B4_1_etc</th>\n",
       "      <th>B5_1_etc_1</th>\n",
       "      <th>B5_1_etc_2</th>\n",
       "      <th>B5_2_etc_1</th>\n",
       "      <th>B5_2_etc_2</th>\n",
       "      <th>...</th>\n",
       "      <th>D14_SUM</th>\n",
       "      <th>H3_SUM</th>\n",
       "      <th>H4_SUM</th>\n",
       "      <th>H13_SUM</th>\n",
       "      <th>H14_1_SUM</th>\n",
       "      <th>H16_SUM</th>\n",
       "      <th>E5</th>\n",
       "      <th>J3b_1_13</th>\n",
       "      <th>J3b_1_1</th>\n",
       "      <th>E1_3_1</th>\n",
       "    </tr>\n",
       "  </thead>\n",
       "  <tbody>\n",
       "    <tr>\n",
       "      <th>0</th>\n",
       "      <td>67</td>\n",
       "      <td>2</td>\n",
       "      <td>2</td>\n",
       "      <td>2</td>\n",
       "      <td>1</td>\n",
       "      <td>1</td>\n",
       "      <td>0</td>\n",
       "      <td>0</td>\n",
       "      <td>0</td>\n",
       "      <td>0</td>\n",
       "      <td>...</td>\n",
       "      <td>0</td>\n",
       "      <td>30</td>\n",
       "      <td>17</td>\n",
       "      <td>0</td>\n",
       "      <td>0</td>\n",
       "      <td>18.28062</td>\n",
       "      <td>1</td>\n",
       "      <td>1789</td>\n",
       "      <td>1020</td>\n",
       "      <td>1</td>\n",
       "    </tr>\n",
       "    <tr>\n",
       "      <th>1</th>\n",
       "      <td>68</td>\n",
       "      <td>2</td>\n",
       "      <td>2</td>\n",
       "      <td>2</td>\n",
       "      <td>1</td>\n",
       "      <td>2</td>\n",
       "      <td>0</td>\n",
       "      <td>0</td>\n",
       "      <td>1</td>\n",
       "      <td>7</td>\n",
       "      <td>...</td>\n",
       "      <td>2</td>\n",
       "      <td>30</td>\n",
       "      <td>17</td>\n",
       "      <td>0</td>\n",
       "      <td>0</td>\n",
       "      <td>15.13697</td>\n",
       "      <td>1</td>\n",
       "      <td>1389</td>\n",
       "      <td>324</td>\n",
       "      <td>0</td>\n",
       "    </tr>\n",
       "    <tr>\n",
       "      <th>2</th>\n",
       "      <td>66</td>\n",
       "      <td>2</td>\n",
       "      <td>2</td>\n",
       "      <td>1</td>\n",
       "      <td>1</td>\n",
       "      <td>1</td>\n",
       "      <td>0</td>\n",
       "      <td>0</td>\n",
       "      <td>1</td>\n",
       "      <td>3</td>\n",
       "      <td>...</td>\n",
       "      <td>0</td>\n",
       "      <td>15</td>\n",
       "      <td>21</td>\n",
       "      <td>0</td>\n",
       "      <td>0</td>\n",
       "      <td>18.00000</td>\n",
       "      <td>1</td>\n",
       "      <td>2180</td>\n",
       "      <td>1500</td>\n",
       "      <td>0</td>\n",
       "    </tr>\n",
       "    <tr>\n",
       "      <th>3</th>\n",
       "      <td>66</td>\n",
       "      <td>1</td>\n",
       "      <td>2</td>\n",
       "      <td>1</td>\n",
       "      <td>1</td>\n",
       "      <td>1</td>\n",
       "      <td>0</td>\n",
       "      <td>0</td>\n",
       "      <td>0</td>\n",
       "      <td>0</td>\n",
       "      <td>...</td>\n",
       "      <td>0</td>\n",
       "      <td>15</td>\n",
       "      <td>18</td>\n",
       "      <td>0</td>\n",
       "      <td>0</td>\n",
       "      <td>17.00000</td>\n",
       "      <td>0</td>\n",
       "      <td>3100</td>\n",
       "      <td>2300</td>\n",
       "      <td>0</td>\n",
       "    </tr>\n",
       "    <tr>\n",
       "      <th>4</th>\n",
       "      <td>68</td>\n",
       "      <td>2</td>\n",
       "      <td>3</td>\n",
       "      <td>4</td>\n",
       "      <td>1</td>\n",
       "      <td>1</td>\n",
       "      <td>0</td>\n",
       "      <td>0</td>\n",
       "      <td>1</td>\n",
       "      <td>3</td>\n",
       "      <td>...</td>\n",
       "      <td>3</td>\n",
       "      <td>16</td>\n",
       "      <td>20</td>\n",
       "      <td>0</td>\n",
       "      <td>0</td>\n",
       "      <td>23.13697</td>\n",
       "      <td>1</td>\n",
       "      <td>719</td>\n",
       "      <td>324</td>\n",
       "      <td>1</td>\n",
       "    </tr>\n",
       "  </tbody>\n",
       "</table>\n",
       "<p>5 rows × 271 columns</p>\n",
       "</div>"
      ],
      "text/plain": [
       "   RES_AGE  RES_SEX  B1  B3  B4  B4_1_etc  B5_1_etc_1  B5_1_etc_2  B5_2_etc_1  \\\n",
       "0       67        2   2   2   1         1           0           0           0   \n",
       "1       68        2   2   2   1         2           0           0           1   \n",
       "2       66        2   2   1   1         1           0           0           1   \n",
       "3       66        1   2   1   1         1           0           0           0   \n",
       "4       68        2   3   4   1         1           0           0           1   \n",
       "\n",
       "   B5_2_etc_2  ...  D14_SUM  H3_SUM  H4_SUM  H13_SUM  H14_1_SUM   H16_SUM  E5  \\\n",
       "0           0  ...        0      30      17        0          0  18.28062   1   \n",
       "1           7  ...        2      30      17        0          0  15.13697   1   \n",
       "2           3  ...        0      15      21        0          0  18.00000   1   \n",
       "3           0  ...        0      15      18        0          0  17.00000   0   \n",
       "4           3  ...        3      16      20        0          0  23.13697   1   \n",
       "\n",
       "   J3b_1_13  J3b_1_1  E1_3_1  \n",
       "0      1789     1020       1  \n",
       "1      1389      324       0  \n",
       "2      2180     1500       0  \n",
       "3      3100     2300       0  \n",
       "4       719      324       1  \n",
       "\n",
       "[5 rows x 271 columns]"
      ]
     },
     "execution_count": 16,
     "metadata": {},
     "output_type": "execute_result"
    }
   ],
   "source": [
    "file_path_2020 = '2020_survey_data_cleansed.csv'\n",
    "df = pd.read_csv(file_path_2020)\n",
    "df.head()"
   ]
  },
  {
   "cell_type": "markdown",
   "id": "3c69dc94",
   "metadata": {},
   "source": [
    "features 묶음은 아래와 같습니다\n",
    "1. 건강상태 관련\n",
    " - health_essential\n",
    " - health_raw\n",
    " - health_compound\n",
    "2. 가족/사회관계 관련\n",
    " - social_essential\n",
    " - social_raw\n",
    " - social_compound\n",
    "3. 노후생활 관련\n",
    " - life_essential\n",
    " - life_raw\n",
    " - life_compound"
   ]
  },
  {
   "cell_type": "code",
   "execution_count": 17,
   "id": "60113a8a",
   "metadata": {},
   "outputs": [],
   "source": [
    "# health-related features\n",
    "health_essential = ['RES_AGE','RES_SEX','B1','B3','B4','B4_1_etc','B5_1_etc_1','B5_1_etc_2','B5_2_etc_1','B5_2_etc_2','B7','B8','B8_1a','B9','C4','C10_1_2','I1x1']\n",
    "health_raw = ['B2_2L_1','B2_2L_2','B2_2L_3','B2_2L_4','B2_2L_5','B2_2L_6','B2_2L_7','B2_2L_8','B2_2L_9','B2_2L_10','B2_2L_11','B2_2L_12','B2_2L_13','B2_2L_14','B2_2L_15','B2_2L_16','B2_2L_17','B2_2L_18','B2_2L_19','B2_2L_20','B2_2L_21','B2_2L_22','B2_2L_23','B2_2L_24','B2_2L_25','B2_2L_26','B2_2L_27','B2_2L_28','B2_2L_29','B2_2L_30','B2_2L_31','B2_2L_32',\n",
    "              'B6_1','B6_2','B6_3','B6_4','B6_5','B6_6','B6_7','B6_8','B6_9','B6_10','B6_11','B6_12','B6_13','B6_14','B6_15',\n",
    "              'B9_1a','B9_2a',\n",
    "              'B10_1','B10_3',\n",
    "              'B11_1','B11_2','B11_3_1','B11_3_2','B11_3_3','B11_4','B11_5','B11_6','B11_7','B11_8','B11_9','B11_10',\n",
    "              'C1_1','C2_1','C3_1',\n",
    "              'C1_2','C2_2','C3_2',\n",
    "              'C5_1','C5_2','C5_3','C5_4','C5_5','C5_6',\n",
    "              'C6_1','C6_2','C6_3','C6_4','C6_5','C6_6','C6_7',\n",
    "              'C7_1_1','C7_1_2','C7_1_3','C7_1_4','C7_1_5','C7_1_6','C7_1_7',\n",
    "              'C7_2_8','C7_2_9','C7_2_10',\n",
    "             ]\n",
    "health_compound = ['B2_3','B6_SUM','B9_3a','B10_BMI','B11_SUM','C_SUM_1','C_SUM_2','C5_SUM','C_6_7_SUM']\n",
    "health_features_1 = health_essential + health_raw\n",
    "health_features_2 = health_essential + health_compound\n",
    "\n",
    "# social-related features\n",
    "social_essential = ['EDM','S5_1','S5_2','S6_1','S6_2','S6_3','S6_4','S6_5','F1_1_2_1','F1_1_2_2','F1_1_3_1','F1_1_3_2','F2','F2_1','F5_1_etc','F5_1','F5_2','G4_1','F6','F13_1_etc','F14','F14_1','F15','F15_1','F16_1','F16_2','AREA_11','AREA_21','AREA_22','AREA_23','AREA_24','AREA_25','AREA_26','AREA_29','AREA_31','AREA_32','AREA_33','AREA_34','AREA_35','AREA_36','AREA_37','AREA_38','AREA_39']\n",
    "social_raw = ['G1_4_7','G1_4_8','G1_4_9','G1_4_10','G1_4_11','G1_4_12','G2_4_7','G2_4_8','G2_4_9','G2_4_10','G2_4_11','G2_4_12','G3_4_7','G3_4_8','G3_4_9','G3_4_10','G3_4_11','G3_4_12']\n",
    "social_compound = ['G1_4_AGG','G2_4_AGG','G3_4_AGG']\n",
    "social_features_1 = social_essential + social_raw\n",
    "social_features_2 = social_essential + social_compound\n",
    "\n",
    "# life-quality-related features\n",
    "life_essential = ['D1_1_etc','D2','D3','D6_1_1','D6_1_2','D6_1_3','D8_1','H1_1','H1_2','H1_3','H1_4','H1_5','H2','H11','H12_1_etc','H15','H18','H25']\n",
    "life_raw = ['D5_3_1','D5_3_2','D7_3_1','D7_3_2','D11_2_1','D11_2_2','D11_2_3','D11_2_4','D11_2_5','D11_2_6',\n",
    "'D13_1','D13_2','D13_3','D13_4','D13_5','D13_6','D13_7','D13_8','D13_9','D13_10','D13_11',\n",
    "'D14_1','D14_2','D14_3',\n",
    "'H3_1','H3_2','H3_3','H3_4','H3_5','H3_6','H3_7',\n",
    "'H4_1','H4_2','H4_3','H4_4','H4_5','H4_6','H4_7',\n",
    "'H13_1','H13_2','H13_3','H13_4','H13_5','H13_6',\n",
    "'H14_1_1','H14_1_2','H14_1_3','H14_1_4','H14_1_5','H14_1_6',\n",
    "'H16_1','H16_2','H16_3','H16_4','H16_5','H16_6','H16_7']\n",
    "life_compound = ['D5_3_3','D7_3_3','D11_2_SUM','D13_SUM','D14_SUM','H3_SUM','H4_SUM','H13_SUM','H14_1_SUM','H16_SUM']\n",
    "life_features_1 = life_essential + life_raw\n",
    "life_features_2 = life_essential + life_compound"
   ]
  },
  {
   "cell_type": "markdown",
   "id": "24d4e054",
   "metadata": {},
   "source": [
    "# 1. Treatment T"
   ]
  },
  {
   "cell_type": "markdown",
   "id": "78052c39",
   "metadata": {},
   "source": [
    "여기서 treatment는 정부 지원 일자리 프로그램 참여여부입니다.\n",
    "\n",
    "컬럼 이름은 **E1_3_1**이며 0(참여하지 않음)과 1(참여함), 두가지 값을 받고 있습니다.\n",
    "\n",
    "분포도는 아래와 같습니다."
   ]
  },
  {
   "cell_type": "code",
   "execution_count": 18,
   "id": "0abce5e9",
   "metadata": {},
   "outputs": [
    {
     "data": {
      "image/png": "[encoded data removed]",
      "text/plain": [
       "<Figure size 432x288 with 1 Axes>"
      ]
     },
     "metadata": {
      "needs_background": "light"
     },
     "output_type": "display_data"
    }
   ],
   "source": [
    "values = df['E1_3_1'].value_counts()\n",
    "labels = values.index\n",
    "plt.figure(figsize=(6,4))\n",
    "bars = plt.bar(labels, values)\n",
    "for bar in bars:\n",
    "    yval = bar.get_height()\n",
    "    plt.text(bar.get_x() + bar.get_width()/2, yval + 0.5, yval, ha='center', va='bottom')\n",
    "plt.title('Bar Chart of the treatment (0: controlled, 1:treated)')\n",
    "plt.xlabel('Categories')\n",
    "plt.ylabel('Counts')\n",
    "plt.show()"
   ]
  },
  {
   "cell_type": "code",
   "execution_count": 19,
   "id": "6a936667",
   "metadata": {},
   "outputs": [
    {
     "data": {
      "image/png": "[encoded data removed]",
      "text/plain": [
       "<Figure size 432x288 with 1 Axes>"
      ]
     },
     "metadata": {
      "needs_background": "light"
     },
     "output_type": "display_data"
    }
   ],
   "source": [
    "values = df['E5'].value_counts()\n",
    "labels = values.index\n",
    "plt.figure(figsize=(6,4))\n",
    "bars = plt.bar(labels, values)\n",
    "for bar in bars:\n",
    "    yval = bar.get_height()\n",
    "    plt.text(bar.get_x() + bar.get_width()/2, yval + 0.5, yval, ha='center', va='bottom')\n",
    "plt.title('Bar Chart of the treatment (0: controlled, 1:treated)')\n",
    "plt.xlabel('Categories')\n",
    "plt.ylabel('Counts')\n",
    "plt.show()"
   ]
  },
  {
   "cell_type": "markdown",
   "id": "8f11384b",
   "metadata": {},
   "source": [
    "# 2. Matching"
   ]
  },
  {
   "cell_type": "markdown",
   "id": "6fb21483",
   "metadata": {},
   "source": [
    "분석을 위한 데이터가 필요합니다. 현재 우리는 노인 일자리 정책에 참여하고 있는 데이터 800개가 있으며, TE를 구하기 위해 참여하고 있지 않은 집단의 데이터가 필요합니다. \n",
    "\n",
    "우리는 아래와 같은 조건을 만족하는 데이터를 찾습니다:\n",
    "- 참여의향이 있음 (df[E5]==1).\n",
    "- 현재 참여중이지 않음.\n"
   ]
  },
  {
   "cell_type": "markdown",
   "id": "d364ba5e",
   "metadata": {},
   "source": [
    "고로, 일단 참여의향에 따른 분포를 그려보았습니다:"
   ]
  },
  {
   "cell_type": "code",
   "execution_count": 20,
   "id": "0503654e",
   "metadata": {},
   "outputs": [
    {
     "data": {
      "image/png": "[encoded data removed]",
      "text/plain": [
       "<Figure size 432x288 with 1 Axes>"
      ]
     },
     "metadata": {
      "needs_background": "light"
     },
     "output_type": "display_data"
    }
   ],
   "source": [
    "values = df['E5'].value_counts()\n",
    "labels = values.index\n",
    "plt.figure(figsize=(6,4))\n",
    "bars = plt.bar(labels, values)\n",
    "for bar in bars:\n",
    "    yval = bar.get_height()\n",
    "    plt.text(bar.get_x() + bar.get_width()/2, yval + 0.5, yval, ha='center', va='bottom')\n",
    "plt.title('Bar Chart of the willingess (0: No, 1:Yes)')\n",
    "plt.xlabel('Categories')\n",
    "plt.ylabel('Counts')\n",
    "plt.show()"
   ]
  },
  {
   "cell_type": "markdown",
   "id": "e53c4560",
   "metadata": {},
   "source": [
    "위와 같이 나와있듯, 약 2000여명이 참여의향이 있다고 나왔습니다. 현재 참여 중인 800명이 모두 참여의향이 있다는 극단적인 가정을 해도 약 1200명이 남습니다. 꽤 충분한 숫자입니다.\n",
    "\n",
    "그래서 이 참여의향이 있는 2000여명 중 현재 정부지원일자리 정책에 참여여부의 분포를 그려봤습니다."
   ]
  },
  {
   "cell_type": "code",
   "execution_count": 21,
   "id": "67da8183",
   "metadata": {},
   "outputs": [],
   "source": [
    "df_willing = df[df['E5']==1]"
   ]
  },
  {
   "cell_type": "code",
   "execution_count": 22,
   "id": "7c87e884",
   "metadata": {},
   "outputs": [
    {
     "data": {
      "image/png": "[encoded data removed]",
      "text/plain": [
       "<Figure size 432x288 with 1 Axes>"
      ]
     },
     "metadata": {
      "needs_background": "light"
     },
     "output_type": "display_data"
    }
   ],
   "source": [
    "values = df_willing['E1_3_1'].value_counts()\n",
    "labels = values.index\n",
    "plt.figure(figsize=(6,4))\n",
    "bars = plt.bar(labels, values)\n",
    "for bar in bars:\n",
    "    yval = bar.get_height()\n",
    "    plt.text(bar.get_x() + bar.get_width()/2, yval + 0.5, yval, ha='center', va='bottom')\n",
    "plt.title('Bar Chart of the participation among the ones who are willing to participate (0:no, 1:yes)')\n",
    "plt.xlabel('Categories')\n",
    "plt.ylabel('Counts')\n",
    "plt.show()"
   ]
  },
  {
   "cell_type": "markdown",
   "id": "214e9aaa",
   "metadata": {},
   "source": [
    "위와 같이 나와있듯, 참여의향이 있는 사람들 중, 현재 참여 중이지 않은 사람은 1441명입니다. 꽤 충분한 수치로 볼 수 있을 것 같습니다. \n",
    "\n",
    "추가로, 참여 중인 사람들의 재참여 의사여부의 분포도 그려봤습니다."
   ]
  },
  {
   "cell_type": "code",
   "execution_count": 23,
   "id": "b30aff56",
   "metadata": {},
   "outputs": [
    {
     "data": {
      "image/png": "[encoded data removed]",
      "text/plain": [
       "<Figure size 432x288 with 1 Axes>"
      ]
     },
     "metadata": {
      "needs_background": "light"
     },
     "output_type": "display_data"
    }
   ],
   "source": [
    "values = df[df['E1_3_1']==1]['E5'].value_counts()\n",
    "labels = values.index\n",
    "plt.figure(figsize=(6,4))\n",
    "bars = plt.bar(labels, values)\n",
    "for bar in bars:\n",
    "    yval = bar.get_height()\n",
    "    plt.text(bar.get_x() + bar.get_width()/2, yval + 0.5, yval, ha='center', va='bottom')\n",
    "plt.title('Bar Chart of the willingness among current participants (0:yes, 1:no)')\n",
    "plt.xlabel('Categories')\n",
    "plt.ylabel('Counts')\n",
    "plt.show()"
   ]
  },
  {
   "cell_type": "markdown",
   "id": "94f7cba6",
   "metadata": {},
   "source": [
    "822명 중 652명이 재참여 의사를 밝혔고, 170명이 재참여하지 않겠다고 했습니다. 그냥 스친 생각인데, 이런 데이터를 통해 노인일자리정책의 만족도를 계량할 수 있지 않나 생각도 드네요."
   ]
  },
  {
   "cell_type": "markdown",
   "id": "fb8c7820",
   "metadata": {},
   "source": [
    "아무튼, 다시 본론으로 돌아와서, 우리는 처치집단과 통제집단을 아래와 같이 규정할 수 있습니다:\n",
    "\n",
    "- Treated Group: 현재 노인일자리 정책에 참여 중인 집단.\n",
    "- Controlled Group: 현재 노인일자리 정책에 참여하지 않고 있으나, 참여 의향이 있는 집단."
   ]
  },
  {
   "cell_type": "code",
   "execution_count": 24,
   "id": "a95455cf",
   "metadata": {},
   "outputs": [],
   "source": [
    "df_treated = df[df['E1_3_1']==1]\n",
    "df_controlled = df_willing[df_willing['E1_3_1']==0]\n",
    "df_combined = pd.concat([df_treated, df_controlled], ignore_index=True)"
   ]
  },
  {
   "cell_type": "code",
   "execution_count": 25,
   "id": "ecec49f4",
   "metadata": {},
   "outputs": [
    {
     "data": {
      "text/html": [
       "<div>\n",
       "<style scoped>\n",
       "    .dataframe tbody tr th:only-of-type {\n",
       "        vertical-align: middle;\n",
       "    }\n",
       "\n",
       "    .dataframe tbody tr th {\n",
       "        vertical-align: top;\n",
       "    }\n",
       "\n",
       "    .dataframe thead th {\n",
       "        text-align: right;\n",
       "    }\n",
       "</style>\n",
       "<table border=\"1\" class=\"dataframe\">\n",
       "  <thead>\n",
       "    <tr style=\"text-align: right;\">\n",
       "      <th></th>\n",
       "      <th>RES_AGE</th>\n",
       "      <th>RES_SEX</th>\n",
       "      <th>B1</th>\n",
       "      <th>B3</th>\n",
       "      <th>B4</th>\n",
       "      <th>B4_1_etc</th>\n",
       "      <th>B5_1_etc_1</th>\n",
       "      <th>B5_1_etc_2</th>\n",
       "      <th>B5_2_etc_1</th>\n",
       "      <th>B5_2_etc_2</th>\n",
       "      <th>...</th>\n",
       "      <th>D14_SUM</th>\n",
       "      <th>H3_SUM</th>\n",
       "      <th>H4_SUM</th>\n",
       "      <th>H13_SUM</th>\n",
       "      <th>H14_1_SUM</th>\n",
       "      <th>H16_SUM</th>\n",
       "      <th>E5</th>\n",
       "      <th>J3b_1_13</th>\n",
       "      <th>J3b_1_1</th>\n",
       "      <th>E1_3_1</th>\n",
       "    </tr>\n",
       "  </thead>\n",
       "  <tbody>\n",
       "    <tr>\n",
       "      <th>0</th>\n",
       "      <td>67</td>\n",
       "      <td>2</td>\n",
       "      <td>2</td>\n",
       "      <td>2</td>\n",
       "      <td>1</td>\n",
       "      <td>1</td>\n",
       "      <td>0</td>\n",
       "      <td>0</td>\n",
       "      <td>0</td>\n",
       "      <td>0</td>\n",
       "      <td>...</td>\n",
       "      <td>0</td>\n",
       "      <td>30</td>\n",
       "      <td>17</td>\n",
       "      <td>0</td>\n",
       "      <td>0</td>\n",
       "      <td>18.28062</td>\n",
       "      <td>1</td>\n",
       "      <td>1789</td>\n",
       "      <td>1020</td>\n",
       "      <td>1</td>\n",
       "    </tr>\n",
       "    <tr>\n",
       "      <th>1</th>\n",
       "      <td>68</td>\n",
       "      <td>2</td>\n",
       "      <td>3</td>\n",
       "      <td>4</td>\n",
       "      <td>1</td>\n",
       "      <td>1</td>\n",
       "      <td>0</td>\n",
       "      <td>0</td>\n",
       "      <td>1</td>\n",
       "      <td>3</td>\n",
       "      <td>...</td>\n",
       "      <td>3</td>\n",
       "      <td>16</td>\n",
       "      <td>20</td>\n",
       "      <td>0</td>\n",
       "      <td>0</td>\n",
       "      <td>23.13697</td>\n",
       "      <td>1</td>\n",
       "      <td>719</td>\n",
       "      <td>324</td>\n",
       "      <td>1</td>\n",
       "    </tr>\n",
       "    <tr>\n",
       "      <th>2</th>\n",
       "      <td>79</td>\n",
       "      <td>2</td>\n",
       "      <td>2</td>\n",
       "      <td>1</td>\n",
       "      <td>1</td>\n",
       "      <td>1</td>\n",
       "      <td>0</td>\n",
       "      <td>0</td>\n",
       "      <td>0</td>\n",
       "      <td>0</td>\n",
       "      <td>...</td>\n",
       "      <td>0</td>\n",
       "      <td>20</td>\n",
       "      <td>15</td>\n",
       "      <td>0</td>\n",
       "      <td>0</td>\n",
       "      <td>21.00000</td>\n",
       "      <td>1</td>\n",
       "      <td>450</td>\n",
       "      <td>50</td>\n",
       "      <td>1</td>\n",
       "    </tr>\n",
       "    <tr>\n",
       "      <th>3</th>\n",
       "      <td>75</td>\n",
       "      <td>2</td>\n",
       "      <td>3</td>\n",
       "      <td>2</td>\n",
       "      <td>1</td>\n",
       "      <td>1</td>\n",
       "      <td>0</td>\n",
       "      <td>0</td>\n",
       "      <td>0</td>\n",
       "      <td>0</td>\n",
       "      <td>...</td>\n",
       "      <td>1</td>\n",
       "      <td>20</td>\n",
       "      <td>15</td>\n",
       "      <td>0</td>\n",
       "      <td>0</td>\n",
       "      <td>15.13697</td>\n",
       "      <td>1</td>\n",
       "      <td>655</td>\n",
       "      <td>270</td>\n",
       "      <td>1</td>\n",
       "    </tr>\n",
       "    <tr>\n",
       "      <th>4</th>\n",
       "      <td>69</td>\n",
       "      <td>2</td>\n",
       "      <td>1</td>\n",
       "      <td>0</td>\n",
       "      <td>0</td>\n",
       "      <td>0</td>\n",
       "      <td>0</td>\n",
       "      <td>0</td>\n",
       "      <td>0</td>\n",
       "      <td>0</td>\n",
       "      <td>...</td>\n",
       "      <td>0</td>\n",
       "      <td>15</td>\n",
       "      <td>13</td>\n",
       "      <td>0</td>\n",
       "      <td>0</td>\n",
       "      <td>12.13697</td>\n",
       "      <td>1</td>\n",
       "      <td>1505</td>\n",
       "      <td>810</td>\n",
       "      <td>1</td>\n",
       "    </tr>\n",
       "    <tr>\n",
       "      <th>...</th>\n",
       "      <td>...</td>\n",
       "      <td>...</td>\n",
       "      <td>...</td>\n",
       "      <td>...</td>\n",
       "      <td>...</td>\n",
       "      <td>...</td>\n",
       "      <td>...</td>\n",
       "      <td>...</td>\n",
       "      <td>...</td>\n",
       "      <td>...</td>\n",
       "      <td>...</td>\n",
       "      <td>...</td>\n",
       "      <td>...</td>\n",
       "      <td>...</td>\n",
       "      <td>...</td>\n",
       "      <td>...</td>\n",
       "      <td>...</td>\n",
       "      <td>...</td>\n",
       "      <td>...</td>\n",
       "      <td>...</td>\n",
       "      <td>...</td>\n",
       "    </tr>\n",
       "    <tr>\n",
       "      <th>2258</th>\n",
       "      <td>65</td>\n",
       "      <td>2</td>\n",
       "      <td>3</td>\n",
       "      <td>0</td>\n",
       "      <td>0</td>\n",
       "      <td>0</td>\n",
       "      <td>0</td>\n",
       "      <td>0</td>\n",
       "      <td>0</td>\n",
       "      <td>0</td>\n",
       "      <td>...</td>\n",
       "      <td>0</td>\n",
       "      <td>18</td>\n",
       "      <td>17</td>\n",
       "      <td>0</td>\n",
       "      <td>0</td>\n",
       "      <td>19.13697</td>\n",
       "      <td>1</td>\n",
       "      <td>2045</td>\n",
       "      <td>1300</td>\n",
       "      <td>0</td>\n",
       "    </tr>\n",
       "    <tr>\n",
       "      <th>2259</th>\n",
       "      <td>66</td>\n",
       "      <td>2</td>\n",
       "      <td>1</td>\n",
       "      <td>0</td>\n",
       "      <td>0</td>\n",
       "      <td>0</td>\n",
       "      <td>0</td>\n",
       "      <td>0</td>\n",
       "      <td>0</td>\n",
       "      <td>0</td>\n",
       "      <td>...</td>\n",
       "      <td>1</td>\n",
       "      <td>18</td>\n",
       "      <td>19</td>\n",
       "      <td>0</td>\n",
       "      <td>0</td>\n",
       "      <td>18.13697</td>\n",
       "      <td>1</td>\n",
       "      <td>545</td>\n",
       "      <td>0</td>\n",
       "      <td>0</td>\n",
       "    </tr>\n",
       "    <tr>\n",
       "      <th>2260</th>\n",
       "      <td>67</td>\n",
       "      <td>2</td>\n",
       "      <td>3</td>\n",
       "      <td>1</td>\n",
       "      <td>1</td>\n",
       "      <td>2</td>\n",
       "      <td>0</td>\n",
       "      <td>0</td>\n",
       "      <td>0</td>\n",
       "      <td>0</td>\n",
       "      <td>...</td>\n",
       "      <td>3</td>\n",
       "      <td>14</td>\n",
       "      <td>15</td>\n",
       "      <td>0</td>\n",
       "      <td>0</td>\n",
       "      <td>14.00000</td>\n",
       "      <td>1</td>\n",
       "      <td>360</td>\n",
       "      <td>0</td>\n",
       "      <td>0</td>\n",
       "    </tr>\n",
       "    <tr>\n",
       "      <th>2261</th>\n",
       "      <td>70</td>\n",
       "      <td>2</td>\n",
       "      <td>2</td>\n",
       "      <td>2</td>\n",
       "      <td>1</td>\n",
       "      <td>3</td>\n",
       "      <td>0</td>\n",
       "      <td>0</td>\n",
       "      <td>0</td>\n",
       "      <td>0</td>\n",
       "      <td>...</td>\n",
       "      <td>3</td>\n",
       "      <td>15</td>\n",
       "      <td>13</td>\n",
       "      <td>0</td>\n",
       "      <td>0</td>\n",
       "      <td>14.00000</td>\n",
       "      <td>1</td>\n",
       "      <td>3200</td>\n",
       "      <td>0</td>\n",
       "      <td>0</td>\n",
       "    </tr>\n",
       "    <tr>\n",
       "      <th>2262</th>\n",
       "      <td>70</td>\n",
       "      <td>2</td>\n",
       "      <td>3</td>\n",
       "      <td>2</td>\n",
       "      <td>0</td>\n",
       "      <td>0</td>\n",
       "      <td>0</td>\n",
       "      <td>0</td>\n",
       "      <td>0</td>\n",
       "      <td>0</td>\n",
       "      <td>...</td>\n",
       "      <td>3</td>\n",
       "      <td>17</td>\n",
       "      <td>21</td>\n",
       "      <td>0</td>\n",
       "      <td>0</td>\n",
       "      <td>18.13697</td>\n",
       "      <td>1</td>\n",
       "      <td>395</td>\n",
       "      <td>0</td>\n",
       "      <td>0</td>\n",
       "    </tr>\n",
       "  </tbody>\n",
       "</table>\n",
       "<p>2263 rows × 271 columns</p>\n",
       "</div>"
      ],
      "text/plain": [
       "      RES_AGE  RES_SEX  B1  B3  B4  B4_1_etc  B5_1_etc_1  B5_1_etc_2  \\\n",
       "0          67        2   2   2   1         1           0           0   \n",
       "1          68        2   3   4   1         1           0           0   \n",
       "2          79        2   2   1   1         1           0           0   \n",
       "3          75        2   3   2   1         1           0           0   \n",
       "4          69        2   1   0   0         0           0           0   \n",
       "...       ...      ...  ..  ..  ..       ...         ...         ...   \n",
       "2258       65        2   3   0   0         0           0           0   \n",
       "2259       66        2   1   0   0         0           0           0   \n",
       "2260       67        2   3   1   1         2           0           0   \n",
       "2261       70        2   2   2   1         3           0           0   \n",
       "2262       70        2   3   2   0         0           0           0   \n",
       "\n",
       "      B5_2_etc_1  B5_2_etc_2  ...  D14_SUM  H3_SUM  H4_SUM  H13_SUM  \\\n",
       "0              0           0  ...        0      30      17        0   \n",
       "1              1           3  ...        3      16      20        0   \n",
       "2              0           0  ...        0      20      15        0   \n",
       "3              0           0  ...        1      20      15        0   \n",
       "4              0           0  ...        0      15      13        0   \n",
       "...          ...         ...  ...      ...     ...     ...      ...   \n",
       "2258           0           0  ...        0      18      17        0   \n",
       "2259           0           0  ...        1      18      19        0   \n",
       "2260           0           0  ...        3      14      15        0   \n",
       "2261           0           0  ...        3      15      13        0   \n",
       "2262           0           0  ...        3      17      21        0   \n",
       "\n",
       "      H14_1_SUM   H16_SUM  E5  J3b_1_13  J3b_1_1  E1_3_1  \n",
       "0             0  18.28062   1      1789     1020       1  \n",
       "1             0  23.13697   1       719      324       1  \n",
       "2             0  21.00000   1       450       50       1  \n",
       "3             0  15.13697   1       655      270       1  \n",
       "4             0  12.13697   1      1505      810       1  \n",
       "...         ...       ...  ..       ...      ...     ...  \n",
       "2258          0  19.13697   1      2045     1300       0  \n",
       "2259          0  18.13697   1       545        0       0  \n",
       "2260          0  14.00000   1       360        0       0  \n",
       "2261          0  14.00000   1      3200        0       0  \n",
       "2262          0  18.13697   1       395        0       0  \n",
       "\n",
       "[2263 rows x 271 columns]"
      ]
     },
     "execution_count": 25,
     "metadata": {},
     "output_type": "execute_result"
    }
   ],
   "source": [
    "df_combined"
   ]
  },
  {
   "cell_type": "markdown",
   "id": "35fd9c27",
   "metadata": {},
   "source": [
    "# 3. Treatment Effect Measurement"
   ]
  },
  {
   "cell_type": "markdown",
   "id": "e3b255f2",
   "metadata": {},
   "source": [
    "Heterogeneous treatment effect를 파악하기 전에 treatment effect가 충분한지부터 파악해야합니다.\n",
    "\n",
    "고로, 두 집단을 그룹한 후 그 차이를 확인해봅니다."
   ]
  },
  {
   "cell_type": "markdown",
   "id": "ba7a4232",
   "metadata": {},
   "source": [
    "### 3.1. 우울증 척도 (높을수록 우울함)"
   ]
  },
  {
   "cell_type": "markdown",
   "id": "cb99fd60",
   "metadata": {},
   "source": [
    "처치/통제 집단의 우울증 척도를 살펴봅니다."
   ]
  },
  {
   "cell_type": "code",
   "execution_count": 26,
   "id": "8cd72f5b",
   "metadata": {},
   "outputs": [
    {
     "data": {
      "image/png": "[encoded data removed]",
      "text/plain": [
       "<Figure size 720x432 with 1 Axes>"
      ]
     },
     "metadata": {
      "needs_background": "light"
     },
     "output_type": "display_data"
    }
   ],
   "source": [
    "# Create a mask for your conditions\n",
    "mask = df_combined['E1_3_1'].isin([0, 1])\n",
    "\n",
    "# Create the plot for the subset of the dataframe\n",
    "plt.figure(figsize=(10,6))\n",
    "sns.barplot(x='E1_3_1', y='B6_SUM', data=df_combined[mask], ci=95, n_boot=1000, capsize=0.1)\n",
    "\n",
    "plt.title('Confidence Interval of B6_SUM for E1_3_1=0 and E1_3_1=1')\n",
    "plt.xlabel('E1_3_1')\n",
    "plt.ylabel('B6_SUM')\n",
    "\n",
    "plt.show()\n"
   ]
  },
  {
   "cell_type": "code",
   "execution_count": 15,
   "id": "d764b895",
   "metadata": {},
   "outputs": [
    {
     "name": "stdout",
     "output_type": "stream",
     "text": [
      "t statistic:  1.3364444277673804\n",
      "p-value:  0.18153852516595217\n",
      "We fail to reject the null hypothesis\n"
     ]
    }
   ],
   "source": [
    "# Separate the two groups\n",
    "group_0 = df_combined[df_combined['E1_3_1'] == 0]['B6_SUM']\n",
    "group_1 = df_combined[df_combined['E1_3_1'] == 1]['B6_SUM']\n",
    "\n",
    "# Perform the t-test\n",
    "t_stat, p_value = stats.ttest_ind(group_0, group_1)\n",
    "\n",
    "print(\"t statistic: \", t_stat)\n",
    "print(\"p-value: \", p_value)\n",
    "\n",
    "# Set your significance level\n",
    "alpha = 0.05\n",
    "\n",
    "# Check if we deny H0\n",
    "if p_value < alpha:\n",
    "    print(\"We reject the null hypothesis\")\n",
    "else:\n",
    "    print(\"We fail to reject the null hypothesis\")\n"
   ]
  },
  {
   "cell_type": "markdown",
   "id": "0c007a68",
   "metadata": {},
   "source": [
    "### 3.2 근로소득"
   ]
  },
  {
   "cell_type": "code",
   "execution_count": 27,
   "id": "4067682b",
   "metadata": {},
   "outputs": [
    {
     "data": {
      "image/png": "[encoded data removed]",
      "text/plain": [
       "<Figure size 720x432 with 1 Axes>"
      ]
     },
     "metadata": {
      "needs_background": "light"
     },
     "output_type": "display_data"
    }
   ],
   "source": [
    "import matplotlib.pyplot as plt\n",
    "\n",
    "# Create a mask for your conditions\n",
    "mask = df_combined['E1_3_1'].isin([0, 1])\n",
    "\n",
    "# Create the plot for the subset of the dataframe\n",
    "plt.figure(figsize=(10,6))\n",
    "sns.barplot(x='E1_3_1', y='J3b_1_1', data=df_combined[mask], ci=95, n_boot=1000, capsize=0.1)\n",
    "\n",
    "plt.title('Confidence Interval of J3b_1_1 for E1_3_1=0 and E1_3_1=1')\n",
    "plt.xlabel('E1_3_1')\n",
    "plt.ylabel('B6_SUM')\n",
    "\n",
    "plt.show()\n"
   ]
  },
  {
   "cell_type": "code",
   "execution_count": 39,
   "id": "d0ca334f",
   "metadata": {},
   "outputs": [
    {
     "name": "stdout",
     "output_type": "stream",
     "text": [
      "t statistic:  -1.542202147474238\n",
      "p-value:  0.12316441667944504\n",
      "We fail to reject the null hypothesis\n"
     ]
    }
   ],
   "source": [
    "# Separate the two groups\n",
    "group_0 = df_combined[df_combined['E1_3_1'] == 0]['J3b_1_1']\n",
    "group_1 = df_combined[df_combined['E1_3_1'] == 1]['J3b_1_1']\n",
    "\n",
    "# Perform the t-test\n",
    "t_stat, p_value = stats.ttest_ind(group_0, group_1)\n",
    "\n",
    "print(\"t statistic: \", t_stat)\n",
    "print(\"p-value: \", p_value)\n",
    "\n",
    "# Set your significance level\n",
    "alpha = 0.05\n",
    "\n",
    "# Check if we deny H0\n",
    "if p_value < alpha:\n",
    "    print(\"We reject the null hypothesis\")\n",
    "else:\n",
    "    print(\"We fail to reject the null hypothesis\")"
   ]
  },
  {
   "cell_type": "markdown",
   "id": "4946fe05",
   "metadata": {},
   "source": [
    "### 3.3. 본인 총수입액"
   ]
  },
  {
   "cell_type": "code",
   "execution_count": 30,
   "id": "a941cb6f",
   "metadata": {},
   "outputs": [
    {
     "data": {
      "image/png": "[encoded data removed]",
      "text/plain": [
       "<Figure size 720x432 with 1 Axes>"
      ]
     },
     "metadata": {
      "needs_background": "light"
     },
     "output_type": "display_data"
    }
   ],
   "source": [
    "# Create a mask for your conditions\n",
    "mask = df_combined['E1_3_1'].isin([0, 1])\n",
    "\n",
    "# Create the plot for the subset of the dataframe\n",
    "plt.figure(figsize=(10,6))\n",
    "sns.barplot(x='E1_3_1', y='J3b_1_13', data=df_combined[mask], ci=95, n_boot=1000, capsize=0.1)\n",
    "\n",
    "plt.title('Confidence Interval of J3b_1_13 for E1_3_1=0 and E1_3_1=1')\n",
    "plt.xlabel('E1_3_1')\n",
    "plt.ylabel('B6_SUM')\n",
    "\n",
    "plt.show()\n"
   ]
  },
  {
   "cell_type": "code",
   "execution_count": 41,
   "id": "239cf5db",
   "metadata": {},
   "outputs": [
    {
     "name": "stdout",
     "output_type": "stream",
     "text": [
      "t statistic:  5.7240258592947475\n",
      "p-value:  1.178411957861232e-08\n",
      "We reject the null hypothesis\n"
     ]
    }
   ],
   "source": [
    "# Separate the two groups\n",
    "group_0 = df_combined[df_combined['E1_3_1'] == 0]['J3b_1_13']\n",
    "group_1 = df_combined[df_combined['E1_3_1'] == 1]['J3b_1_13']\n",
    "\n",
    "# Perform the t-test\n",
    "t_stat, p_value = stats.ttest_ind(group_0, group_1)\n",
    "\n",
    "print(\"t statistic: \", t_stat)\n",
    "print(\"p-value: \", p_value)\n",
    "\n",
    "# Set your significance level\n",
    "alpha = 0.05\n",
    "\n",
    "# Check if we deny H0\n",
    "if p_value < alpha:\n",
    "    print(\"We reject the null hypothesis\")\n",
    "else:\n",
    "    print(\"We fail to reject the null hypothesis\")"
   ]
  },
  {
   "cell_type": "code",
   "execution_count": 32,
   "id": "1162ed09",
   "metadata": {},
   "outputs": [
    {
     "name": "stdout",
     "output_type": "stream",
     "text": [
      "Columns that deny the null hypothesis:  ['RES_AGE', 'RES_SEX', 'B4', 'B5_2_etc_1', 'B8', 'B8_1a', 'B9', 'I1x1', 'B2_2L_23', 'B2_2L_30', 'B2_2L_32', 'B6_1', 'B6_5', 'B6_7', 'B6_11', 'B6_13', 'B9_1a', 'B9_2a', 'B10_1', 'B10_3', 'B11_1', 'B11_2', 'B11_3_2', 'B11_3_3', 'B11_5', 'B11_6', 'B11_7', 'B11_9', 'C2_1', 'C2_2', 'C5_1', 'C5_2', 'C5_3', 'C5_4', 'C6_2', 'C6_3', 'C6_4', 'C6_5', 'C7_1_2', 'C7_1_3', 'C7_1_4', 'C7_1_5', 'C7_1_7', 'C7_2_10', 'B2_3', 'B9_3a', 'B10_BMI', 'B11_SUM', 'C_SUM_1', 'C5_SUM', 'C_6_7_SUM', 'S5_1', 'S5_2', 'S6_1', 'S6_2', 'S6_3', 'S6_4', 'S6_5', 'F1_1_2_1', 'F1_1_2_2', 'F1_1_3_2', 'F2_1', 'F5_1_etc', 'G4_1', 'F13_1_etc', 'F14', 'F14_1', 'F15', 'F16_1', 'AREA_11', 'AREA_21', 'AREA_24', 'AREA_26', 'AREA_29', 'AREA_32', 'AREA_33', 'AREA_35', 'AREA_36', 'AREA_37', 'AREA_38', 'G1_4_7', 'G1_4_9', 'G1_4_11', 'G2_4_8', 'G2_4_11', 'G1_4_AGG', 'G2_4_AGG', 'D1_1_etc', 'D2', 'D3', 'H1_5', 'H11', 'H15', 'D11_2_1', 'D11_2_2', 'D11_2_4', 'D13_1', 'D13_2', 'D13_3', 'D13_4', 'D13_5', 'D13_6', 'D13_7', 'D13_8', 'D13_10', 'D14_1', 'D14_2', 'H3_5', 'H3_6', 'H4_3', 'H4_4', 'H4_5', 'H4_6', 'H14_1_1', 'H14_1_2', 'H14_1_3', 'H16_5', 'H16_6', 'D11_2_SUM', 'D13_SUM', 'D14_SUM', 'H14_1_SUM', 'E5', 'J3b_1_13']\n"
     ]
    }
   ],
   "source": [
    "# Separate the two groups\n",
    "group_0 = df_combined[df_combined['E1_3_1'] == 0]\n",
    "group_1 = df_combined[df_combined['E1_3_1'] == 1]\n",
    "\n",
    "# Set your significance level\n",
    "alpha = 0.05\n",
    "\n",
    "# List to store columns that deny H0\n",
    "columns_deny_H0 = []\n",
    "\n",
    "# Iterate over each column in the group dataframes\n",
    "for column in df_combined.columns:\n",
    "    if df_combined[column].dtype in [np.int64, np.float64] and column != 'E1_3_1':\n",
    "        # Perform the t-test\n",
    "        t_stat, p_value = stats.ttest_ind(group_0[column], group_1[column], nan_policy='omit')\n",
    "        # Check if we deny H0\n",
    "        if p_value < alpha:\n",
    "            columns_deny_H0.append(column)\n",
    "\n",
    "# Print the columns that deny H0\n",
    "print(\"Columns that deny the null hypothesis: \", columns_deny_H0)\n"
   ]
  },
  {
   "cell_type": "markdown",
   "id": "bbec293d",
   "metadata": {},
   "source": [
    "# 4. Causal Forest"
   ]
  },
  {
   "cell_type": "markdown",
   "id": "10e8be8c",
   "metadata": {},
   "source": [
    "그 다음은 causal forest 모델을 돌립니다. X, T, Y는 다음과 같습니다:\n",
    "\n",
    "- X: 각종 features\n",
    "- T: 노인일자리 참여 참여여부\n",
    "- Y: 본인 총수입액 (J3b_1_13)\n",
    "    \n",
    "*Note: X와 Y의 선정은 추후에 많이 달라질 것임.*"
   ]
  },
  {
   "cell_type": "code",
   "execution_count": 45,
   "id": "e427cb91",
   "metadata": {},
   "outputs": [
    {
     "name": "stderr",
     "output_type": "stream",
     "text": [
      " 99%|===================| 9865/9920 [02:17<00:00]        "
     ]
    }
   ],
   "source": [
    "X = df[health_essential+health_compound+social_essential+social_compound+life_essential+life_compound]\n",
    "Y = df['J3b_1_13'].values\n",
    "T = df['E1_3_1'].values\n",
    "\n",
    "# Define some parameters\n",
    "n_trees = 1000\n",
    "min_leaf_size = 50\n",
    "max_depth = 20\n",
    "subsample_ratio = 0.1\n",
    "\n",
    "est = CausalForestDML(model_y=WeightedLassoCVWrapper(cv=3),\n",
    "                       model_t=WeightedLassoCVWrapper(cv=3),\n",
    "                       n_estimators=n_trees, min_samples_leaf=min_leaf_size, max_depth=max_depth,\n",
    "                       max_samples=subsample_ratio/2,\n",
    "                       random_state=123)\n",
    "est.fit(Y, T, X=X, W=X)\n",
    "treatment_effects = est.effect(X)\n",
    "te_lower, te_upper = est.effect_interval(X)\n",
    "shap_values = est.shap_values(X)"
   ]
  },
  {
   "cell_type": "code",
   "execution_count": 46,
   "id": "f70cf6ca",
   "metadata": {},
   "outputs": [
    {
     "data": {
      "image/png": "[encoded data removed]",
      "text/plain": [
       "<Figure size 576x396 with 2 Axes>"
      ]
     },
     "metadata": {
      "needs_background": "light"
     },
     "output_type": "display_data"
    }
   ],
   "source": [
    "shap.plots.beeswarm(shap_values['Y0']['T0'])"
   ]
  },
  {
   "cell_type": "code",
   "execution_count": null,
   "id": "b7e8feda",
   "metadata": {},
   "outputs": [],
   "source": []
  },
  {
   "cell_type": "code",
   "execution_count": 48,
   "id": "aae70965",
   "metadata": {},
   "outputs": [
    {
     "data": {
      "text/plain": [
       "(9920,)"
      ]
     },
     "execution_count": 48,
     "metadata": {},
     "output_type": "execute_result"
    }
   ],
   "source": [
    "treatment_effects.shape"
   ]
  },
  {
   "cell_type": "code",
   "execution_count": 49,
   "id": "9da97487",
   "metadata": {},
   "outputs": [
    {
     "data": {
      "text/plain": [
       "0        9.0\n",
       "1        2.0\n",
       "2        7.0\n",
       "3        0.0\n",
       "4       10.0\n",
       "        ... \n",
       "2258     4.0\n",
       "2259     8.0\n",
       "2260     7.0\n",
       "2261     6.0\n",
       "2262     3.0\n",
       "Name: D13_SUM, Length: 2263, dtype: float64"
      ]
     },
     "execution_count": 49,
     "metadata": {},
     "output_type": "execute_result"
    }
   ],
   "source": [
    "df_combined['D13_SUM']"
   ]
  },
  {
   "cell_type": "code",
   "execution_count": null,
   "id": "799c8530",
   "metadata": {},
   "outputs": [],
   "source": []
  },
  {
   "cell_type": "code",
   "execution_count": null,
   "id": "b1e53494",
   "metadata": {},
   "outputs": [],
   "source": []
  },
  {
   "cell_type": "code",
   "execution_count": 98,
   "id": "b849f1f3",
   "metadata": {},
   "outputs": [],
   "source": [
    "import shap"
   ]
  },
  {
   "cell_type": "code",
   "execution_count": 140,
   "id": "6eb06a6c",
   "metadata": {},
   "outputs": [
    {
     "ename": "AssertionError",
     "evalue": "Dimension mis-match of X with fitted X",
     "output_type": "error",
     "traceback": [
      "\u001b[0;31m---------------------------------------------------------------------------\u001b[0m",
      "\u001b[0;31mAssertionError\u001b[0m                            Traceback (most recent call last)",
      "Input \u001b[0;32mIn [140]\u001b[0m, in \u001b[0;36m<cell line: 23>\u001b[0;34m()\u001b[0m\n\u001b[1;32m     16\u001b[0m est2 \u001b[38;5;241m=\u001b[39m CausalForestDML(model_y\u001b[38;5;241m=\u001b[39mxgb_reg,\n\u001b[1;32m     17\u001b[0m                        model_t\u001b[38;5;241m=\u001b[39mxgb_reg,\n\u001b[1;32m     18\u001b[0m                        n_estimators\u001b[38;5;241m=\u001b[39mn_trees, min_samples_leaf\u001b[38;5;241m=\u001b[39mmin_leaf_size, max_depth\u001b[38;5;241m=\u001b[39mmax_depth,\n\u001b[1;32m     19\u001b[0m                        max_samples\u001b[38;5;241m=\u001b[39msubsample_ratio\u001b[38;5;241m/\u001b[39m\u001b[38;5;241m2\u001b[39m,\n\u001b[1;32m     20\u001b[0m                        random_state\u001b[38;5;241m=\u001b[39m\u001b[38;5;241m123\u001b[39m)\n\u001b[1;32m     22\u001b[0m est2\u001b[38;5;241m.\u001b[39mfit(Y, T, X\u001b[38;5;241m=\u001b[39mX, W\u001b[38;5;241m=\u001b[39mX)\n\u001b[0;32m---> 23\u001b[0m treatment_effects2 \u001b[38;5;241m=\u001b[39m \u001b[43mest2\u001b[49m\u001b[38;5;241;43m.\u001b[39;49m\u001b[43meffect\u001b[49m\u001b[43m(\u001b[49m\u001b[43mX\u001b[49m\u001b[38;5;241;43m.\u001b[39;49m\u001b[43mvalues\u001b[49m\u001b[38;5;241;43m.\u001b[39;49m\u001b[43mreshape\u001b[49m\u001b[43m(\u001b[49m\u001b[38;5;241;43m-\u001b[39;49m\u001b[38;5;241;43m1\u001b[39;49m\u001b[43m,\u001b[49m\u001b[43m \u001b[49m\u001b[38;5;241;43m1\u001b[39;49m\u001b[43m)\u001b[49m\u001b[43m)\u001b[49m\n\u001b[1;32m     24\u001b[0m te_lower2, te_upper2 \u001b[38;5;241m=\u001b[39m est2\u001b[38;5;241m.\u001b[39meffect_interval(X\u001b[38;5;241m.\u001b[39mvalues\u001b[38;5;241m.\u001b[39mreshape(\u001b[38;5;241m-\u001b[39m\u001b[38;5;241m1\u001b[39m, \u001b[38;5;241m1\u001b[39m))\n",
      "File \u001b[0;32m~/opt/anaconda3/lib/python3.9/site-packages/econml/_cate_estimator.py:909\u001b[0m, in \u001b[0;36mTreatmentExpansionMixin.effect\u001b[0;34m(self, X, T0, T1)\u001b[0m\n\u001b[1;32m    907\u001b[0m \u001b[38;5;28;01mdef\u001b[39;00m \u001b[38;5;21meffect\u001b[39m(\u001b[38;5;28mself\u001b[39m, X\u001b[38;5;241m=\u001b[39m\u001b[38;5;28;01mNone\u001b[39;00m, \u001b[38;5;241m*\u001b[39m, T0\u001b[38;5;241m=\u001b[39m\u001b[38;5;241m0\u001b[39m, T1\u001b[38;5;241m=\u001b[39m\u001b[38;5;241m1\u001b[39m):\n\u001b[1;32m    908\u001b[0m     \u001b[38;5;66;03m# NOTE: don't explicitly expand treatments here, because it's done in the super call\u001b[39;00m\n\u001b[0;32m--> 909\u001b[0m     \u001b[38;5;28;01mreturn\u001b[39;00m \u001b[38;5;28;43msuper\u001b[39;49m\u001b[43m(\u001b[49m\u001b[43m)\u001b[49m\u001b[38;5;241;43m.\u001b[39;49m\u001b[43meffect\u001b[49m\u001b[43m(\u001b[49m\u001b[43mX\u001b[49m\u001b[43m,\u001b[49m\u001b[43m \u001b[49m\u001b[43mT0\u001b[49m\u001b[38;5;241;43m=\u001b[39;49m\u001b[43mT0\u001b[49m\u001b[43m,\u001b[49m\u001b[43m \u001b[49m\u001b[43mT1\u001b[49m\u001b[38;5;241;43m=\u001b[39;49m\u001b[43mT1\u001b[49m\u001b[43m)\u001b[49m\n",
      "File \u001b[0;32m~/opt/anaconda3/lib/python3.9/site-packages/econml/_cate_estimator.py:597\u001b[0m, in \u001b[0;36mLinearCateEstimator.effect\u001b[0;34m(self, X, T0, T1)\u001b[0m\n\u001b[1;32m    594\u001b[0m X, T0, T1 \u001b[38;5;241m=\u001b[39m \u001b[38;5;28mself\u001b[39m\u001b[38;5;241m.\u001b[39m_expand_treatments(X, T0, T1)\n\u001b[1;32m    595\u001b[0m \u001b[38;5;66;03m# TODO: what if input is sparse? - there's no equivalent to einsum,\u001b[39;00m\n\u001b[1;32m    596\u001b[0m \u001b[38;5;66;03m#       but tensordot can't be applied to this problem because we don't sum over m\u001b[39;00m\n\u001b[0;32m--> 597\u001b[0m eff \u001b[38;5;241m=\u001b[39m \u001b[38;5;28;43mself\u001b[39;49m\u001b[38;5;241;43m.\u001b[39;49m\u001b[43mconst_marginal_effect\u001b[49m\u001b[43m(\u001b[49m\u001b[43mX\u001b[49m\u001b[43m)\u001b[49m\n\u001b[1;32m    598\u001b[0m \u001b[38;5;66;03m# if X is None then the shape of const_marginal_effect will be wrong because the number\u001b[39;00m\n\u001b[1;32m    599\u001b[0m \u001b[38;5;66;03m# of rows of T was not taken into account\u001b[39;00m\n\u001b[1;32m    600\u001b[0m \u001b[38;5;28;01mif\u001b[39;00m X \u001b[38;5;129;01mis\u001b[39;00m \u001b[38;5;28;01mNone\u001b[39;00m:\n",
      "File \u001b[0;32m~/opt/anaconda3/lib/python3.9/site-packages/econml/_ortho_learner.py:815\u001b[0m, in \u001b[0;36m_OrthoLearner.const_marginal_effect\u001b[0;34m(self, X)\u001b[0m\n\u001b[1;32m    813\u001b[0m \u001b[38;5;28;01mdef\u001b[39;00m \u001b[38;5;21mconst_marginal_effect\u001b[39m(\u001b[38;5;28mself\u001b[39m, X\u001b[38;5;241m=\u001b[39m\u001b[38;5;28;01mNone\u001b[39;00m):\n\u001b[1;32m    814\u001b[0m     X, \u001b[38;5;241m=\u001b[39m check_input_arrays(X)\n\u001b[0;32m--> 815\u001b[0m     \u001b[38;5;28;43mself\u001b[39;49m\u001b[38;5;241;43m.\u001b[39;49m\u001b[43m_check_fitted_dims\u001b[49m\u001b[43m(\u001b[49m\u001b[43mX\u001b[49m\u001b[43m)\u001b[49m\n\u001b[1;32m    816\u001b[0m     \u001b[38;5;28;01mif\u001b[39;00m X \u001b[38;5;129;01mis\u001b[39;00m \u001b[38;5;28;01mNone\u001b[39;00m:\n\u001b[1;32m    817\u001b[0m         \u001b[38;5;28;01mreturn\u001b[39;00m \u001b[38;5;28mself\u001b[39m\u001b[38;5;241m.\u001b[39m_ortho_learner_model_final\u001b[38;5;241m.\u001b[39mpredict()\n",
      "File \u001b[0;32m~/opt/anaconda3/lib/python3.9/site-packages/econml/_ortho_learner.py:509\u001b[0m, in \u001b[0;36m_OrthoLearner._check_fitted_dims\u001b[0;34m(self, X)\u001b[0m\n\u001b[1;32m    507\u001b[0m     \u001b[38;5;28;01massert\u001b[39;00m \u001b[38;5;28mself\u001b[39m\u001b[38;5;241m.\u001b[39m_d_x \u001b[38;5;129;01mis\u001b[39;00m \u001b[38;5;28;01mNone\u001b[39;00m, \u001b[38;5;124m\"\u001b[39m\u001b[38;5;124mX was not None when fitting, so can\u001b[39m\u001b[38;5;124m'\u001b[39m\u001b[38;5;124mt be none for score or effect\u001b[39m\u001b[38;5;124m\"\u001b[39m\n\u001b[1;32m    508\u001b[0m \u001b[38;5;28;01melse\u001b[39;00m:\n\u001b[0;32m--> 509\u001b[0m     \u001b[38;5;28;01massert\u001b[39;00m \u001b[38;5;28mself\u001b[39m\u001b[38;5;241m.\u001b[39m_d_x \u001b[38;5;241m==\u001b[39m X\u001b[38;5;241m.\u001b[39mshape[\u001b[38;5;241m1\u001b[39m:], \u001b[38;5;124m\"\u001b[39m\u001b[38;5;124mDimension mis-match of X with fitted X\u001b[39m\u001b[38;5;124m\"\u001b[39m\n",
      "\u001b[0;31mAssertionError\u001b[0m: Dimension mis-match of X with fitted X"
     ]
    }
   ],
   "source": [
    "from xgboost import XGBRegressor\n",
    "\n",
    "# Prepare data\n",
    "X = df[health_essential+health_compound+social_essential+social_compound+life_essential+life_compound]\n",
    "Y = df['J3b_1_13'].values\n",
    "T = df['E1_3_1'].values\n",
    "\n",
    "n_trees = 1000\n",
    "min_leaf_size = 50\n",
    "max_depth = 20\n",
    "subsample_ratio = 0.04\n",
    "\n",
    "xgb_reg = XGBRegressor(objective ='reg:squarederror', n_estimators=100, learning_rate=0.1)\n",
    "\n",
    "est2 = CausalForestDML(model_y=xgb_reg,\n",
    "                       model_t=xgb_reg,\n",
    "                       n_estimators=n_trees, min_samples_leaf=min_leaf_size, max_depth=max_depth,\n",
    "                       max_samples=subsample_ratio/2,\n",
    "                       random_state=123)\n",
    "\n",
    "est2.fit(Y, T, X=X, W=X)\n",
    "treatment_effects2 = est2.effect(X.values.reshape(-1, 1))\n",
    "te_lower2, te_upper2 = est2.effect_interval(X.values.reshape(-1, 1))\n"
   ]
  },
  {
   "cell_type": "code",
   "execution_count": 134,
   "id": "024ae93c",
   "metadata": {},
   "outputs": [
    {
     "name": "stderr",
     "output_type": "stream",
     "text": [
      "\r",
      " 94%|=================== | 9372/9920 [00:11<00:00]       "
     ]
    }
   ],
   "source": [
    "shap_values = est2.shap_values(W)"
   ]
  },
  {
   "cell_type": "code",
   "execution_count": 135,
   "id": "3ae48d18",
   "metadata": {},
   "outputs": [
    {
     "data": {
      "image/png": "[encoded data removed]",
      "text/plain": [
       "<Figure size 576x136.8 with 2 Axes>"
      ]
     },
     "metadata": {
      "needs_background": "light"
     },
     "output_type": "display_data"
    }
   ],
   "source": [
    "shap.plots.beeswarm(shap_values['Y0']['T0'])"
   ]
  },
  {
   "cell_type": "code",
   "execution_count": 130,
   "id": "4a77edb7",
   "metadata": {},
   "outputs": [
    {
     "data": {
      "text/plain": [
       "array([[-339.45138416],\n",
       "       [-339.45138416],\n",
       "       [-339.45138416],\n",
       "       ...,\n",
       "       [-339.45138416],\n",
       "       [-339.45138416],\n",
       "       [-339.45138416]])"
      ]
     },
     "execution_count": 130,
     "metadata": {},
     "output_type": "execute_result"
    }
   ],
   "source": [
    "treatment_effects2\n",
    "\n",
    "i have a 2d array named treatmnet_effects2. I want to "
   ]
  },
  {
   "cell_type": "code",
   "execution_count": 132,
   "id": "65e29a8d",
   "metadata": {},
   "outputs": [
    {
     "data": {
      "image/png": "[encoded data removed]",
      "text/plain": [
       "<Figure size 1080x360 with 2 Axes>"
      ]
     },
     "metadata": {
      "needs_background": "light"
     },
     "output_type": "display_data"
    }
   ],
   "source": [
    "plt.figure(figsize=(15, 5))\n",
    "plt.subplot(1, 2, 1)\n",
    "plt.plot(X.values.flatten(), treatment_effects2, label=\"OJ Elasticity\")\n",
    "# plt.fill_between(X.values.flatten(), te_lower2, te_upper2, label=\"95% BLB CI\", alpha=0.3)\n",
    "plt.xlabel(r'$\\log$(Income)')\n",
    "plt.ylabel('Orange Juice Elasticity')\n",
    "plt.legend()\n",
    "plt.title(\"Orange Juice Elasticity vs Income: DMLOrthoForest\")\n",
    "plt.subplot(1, 2, 2)\n",
    "plt.plot(X.values.flatten(), treatment_effects2, label=\"OJ Elasticity\")\n",
    "# plt.fill_between(X.values.flatten(), te_lower2, te_upper2, label=\"95% BLB CI\", alpha=0.3)\n",
    "plt.xlabel(r'$\\log$(Income)')\n",
    "plt.ylabel('Orange Juice Elasticity')\n",
    "plt.legend()\n",
    "plt.title(\"Orange Juice Elasticity vs Income: CausalForest\")\n",
    "plt.show()\n"
   ]
  },
  {
   "cell_type": "code",
   "execution_count": 107,
   "id": "5253ebf6",
   "metadata": {},
   "outputs": [
    {
     "data": {
      "text/plain": [
       "array([ 2,  2,  4, ...,  7, 11,  4])"
      ]
     },
     "execution_count": 107,
     "metadata": {},
     "output_type": "execute_result"
    }
   ],
   "source": [
    "X = df['B6_SUM'].values\n",
    "X"
   ]
  },
  {
   "cell_type": "markdown",
   "id": "c253ba86",
   "metadata": {},
   "source": [
    "# 2. Propensity Score Matching"
   ]
  },
  {
   "cell_type": "code",
   "execution_count": null,
   "id": "8577d8f3",
   "metadata": {},
   "outputs": [],
   "source": [
    "# Main imports\n",
    "from econml.orf import DMLOrthoForest, DROrthoForest\n",
    "from econml.dml import CausalForestDML\n",
    "from econml.sklearn_extensions.linear_model import WeightedLassoCVWrapper, WeightedLasso, WeightedLassoCV\n",
    "\n",
    "# Helper imports\n",
    "from itertools import product\n",
    "from sklearn.linear_model import Lasso, LassoCV, LogisticRegression, LogisticRegressionCV\n",
    "import matplotlib.pyplot as plt\n",
    "import shap\n",
    "\n",
    "%matplotlib inline\n",
    "\n",
    "# Define some parameters\n",
    "n_trees = 1000\n",
    "min_leaf_size = 50\n",
    "max_depth = 20\n",
    "subsample_ratio = 0.04\n",
    "\n",
    "est2 = CausalForestDML(model_y=WeightedLassoCVWrapper(cv=3),\n",
    "                       model_t=WeightedLassoCVWrapper(cv=3),\n",
    "                       n_estimators=n_trees, min_samples_leaf=min_leaf_size, max_depth=max_depth,\n",
    "                       max_samples=subsample_ratio/2,\n",
    "                       random_state=123)\n",
    "est2.fit(Y, T, X=X, W=X)\n",
    "treatment_effects2 = est2.effect(X)\n",
    "te_lower2, te_upper2 = est2.effect_interval(X)\n",
    "shap_values = est2.shap_values(X)"
   ]
  },
  {
   "cell_type": "code",
   "execution_count": null,
   "id": "7302bab0",
   "metadata": {},
   "outputs": [],
   "source": [
    "shap.summary_plot(shap_values, X)\n"
   ]
  },
  {
   "cell_type": "code",
   "execution_count": null,
   "id": "031020f6",
   "metadata": {},
   "outputs": [],
   "source": []
  },
  {
   "cell_type": "code",
   "execution_count": null,
   "id": "511a57c7",
   "metadata": {},
   "outputs": [],
   "source": []
  },
  {
   "cell_type": "code",
   "execution_count": null,
   "id": "555cd354",
   "metadata": {},
   "outputs": [],
   "source": []
  },
  {
   "cell_type": "code",
   "execution_count": null,
   "id": "289a8d83",
   "metadata": {},
   "outputs": [],
   "source": []
  },
  {
   "cell_type": "code",
   "execution_count": null,
   "id": "e65c8b59",
   "metadata": {},
   "outputs": [],
   "source": []
  },
  {
   "cell_type": "markdown",
   "id": "9d3bc584",
   "metadata": {},
   "source": [
    "그 다음은 Propensity Score Matching을 시작합니다."
   ]
  },
  {
   "cell_type": "code",
   "execution_count": 9,
   "id": "faad185f",
   "metadata": {},
   "outputs": [
    {
     "data": {
      "text/html": [
       "<div>\n",
       "<style scoped>\n",
       "    .dataframe tbody tr th:only-of-type {\n",
       "        vertical-align: middle;\n",
       "    }\n",
       "\n",
       "    .dataframe tbody tr th {\n",
       "        vertical-align: top;\n",
       "    }\n",
       "\n",
       "    .dataframe thead th {\n",
       "        text-align: right;\n",
       "    }\n",
       "</style>\n",
       "<table border=\"1\" class=\"dataframe\">\n",
       "  <thead>\n",
       "    <tr style=\"text-align: right;\">\n",
       "      <th></th>\n",
       "      <th>RES_AGE</th>\n",
       "      <th>RES_SEX</th>\n",
       "      <th>B1</th>\n",
       "      <th>B3</th>\n",
       "      <th>B4</th>\n",
       "      <th>B4_1_etc</th>\n",
       "      <th>B5_1_etc_1</th>\n",
       "      <th>B5_1_etc_2</th>\n",
       "      <th>B5_2_etc_1</th>\n",
       "      <th>B5_2_etc_2</th>\n",
       "      <th>...</th>\n",
       "      <th>D7_3_3</th>\n",
       "      <th>D11_2_SUM</th>\n",
       "      <th>D13_SUM</th>\n",
       "      <th>D14_SUM</th>\n",
       "      <th>H3_SUM</th>\n",
       "      <th>H4_SUM</th>\n",
       "      <th>H13_SUM</th>\n",
       "      <th>H14_1_SUM</th>\n",
       "      <th>H16_SUM</th>\n",
       "      <th>propensity_score</th>\n",
       "    </tr>\n",
       "    <tr>\n",
       "      <th>E1_3_1</th>\n",
       "      <th></th>\n",
       "      <th></th>\n",
       "      <th></th>\n",
       "      <th></th>\n",
       "      <th></th>\n",
       "      <th></th>\n",
       "      <th></th>\n",
       "      <th></th>\n",
       "      <th></th>\n",
       "      <th></th>\n",
       "      <th></th>\n",
       "      <th></th>\n",
       "      <th></th>\n",
       "      <th></th>\n",
       "      <th></th>\n",
       "      <th></th>\n",
       "      <th></th>\n",
       "      <th></th>\n",
       "      <th></th>\n",
       "      <th></th>\n",
       "      <th></th>\n",
       "    </tr>\n",
       "  </thead>\n",
       "  <tbody>\n",
       "    <tr>\n",
       "      <th>0</th>\n",
       "      <td>73.334909</td>\n",
       "      <td>1.594197</td>\n",
       "      <td>2.671576</td>\n",
       "      <td>1.780611</td>\n",
       "      <td>0.680149</td>\n",
       "      <td>1.490987</td>\n",
       "      <td>0.002198</td>\n",
       "      <td>0.111233</td>\n",
       "      <td>0.162124</td>\n",
       "      <td>1.170367</td>\n",
       "      <td>...</td>\n",
       "      <td>0.158826</td>\n",
       "      <td>1.289954</td>\n",
       "      <td>3.722871</td>\n",
       "      <td>1.950868</td>\n",
       "      <td>19.686305</td>\n",
       "      <td>16.156848</td>\n",
       "      <td>0.050231</td>\n",
       "      <td>0.054078</td>\n",
       "      <td>17.19365</td>\n",
       "      <td>0.080624</td>\n",
       "    </tr>\n",
       "    <tr>\n",
       "      <th>1</th>\n",
       "      <td>74.582725</td>\n",
       "      <td>1.660584</td>\n",
       "      <td>2.605839</td>\n",
       "      <td>1.672749</td>\n",
       "      <td>0.779805</td>\n",
       "      <td>1.673966</td>\n",
       "      <td>0.006083</td>\n",
       "      <td>0.017032</td>\n",
       "      <td>0.431873</td>\n",
       "      <td>1.394161</td>\n",
       "      <td>...</td>\n",
       "      <td>0.328467</td>\n",
       "      <td>2.093674</td>\n",
       "      <td>3.168559</td>\n",
       "      <td>2.148418</td>\n",
       "      <td>19.451338</td>\n",
       "      <td>15.987835</td>\n",
       "      <td>0.051095</td>\n",
       "      <td>0.226277</td>\n",
       "      <td>17.22983</td>\n",
       "      <td>0.209124</td>\n",
       "    </tr>\n",
       "  </tbody>\n",
       "</table>\n",
       "<p>2 rows × 268 columns</p>\n",
       "</div>"
      ],
      "text/plain": [
       "          RES_AGE   RES_SEX        B1        B3        B4  B4_1_etc  \\\n",
       "E1_3_1                                                                \n",
       "0       73.334909  1.594197  2.671576  1.780611  0.680149  1.490987   \n",
       "1       74.582725  1.660584  2.605839  1.672749  0.779805  1.673966   \n",
       "\n",
       "        B5_1_etc_1  B5_1_etc_2  B5_2_etc_1  B5_2_etc_2  ...    D7_3_3  \\\n",
       "E1_3_1                                                  ...             \n",
       "0         0.002198    0.111233    0.162124    1.170367  ...  0.158826   \n",
       "1         0.006083    0.017032    0.431873    1.394161  ...  0.328467   \n",
       "\n",
       "        D11_2_SUM   D13_SUM   D14_SUM     H3_SUM     H4_SUM   H13_SUM  \\\n",
       "E1_3_1                                                                  \n",
       "0        1.289954  3.722871  1.950868  19.686305  16.156848  0.050231   \n",
       "1        2.093674  3.168559  2.148418  19.451338  15.987835  0.051095   \n",
       "\n",
       "        H14_1_SUM   H16_SUM  propensity_score  \n",
       "E1_3_1                                         \n",
       "0        0.054078  17.19365          0.080624  \n",
       "1        0.226277  17.22983          0.209124  \n",
       "\n",
       "[2 rows x 268 columns]"
      ]
     },
     "execution_count": 9,
     "metadata": {},
     "output_type": "execute_result"
    }
   ],
   "source": [
    "df.groupby('E1_3_1').mean()"
   ]
  },
  {
   "cell_type": "code",
   "execution_count": null,
   "id": "7e96578c",
   "metadata": {},
   "outputs": [],
   "source": []
  },
  {
   "cell_type": "code",
   "execution_count": null,
   "id": "fbbbe598",
   "metadata": {},
   "outputs": [],
   "source": []
  },
  {
   "cell_type": "code",
   "execution_count": null,
   "id": "940506d5",
   "metadata": {},
   "outputs": [],
   "source": []
  },
  {
   "cell_type": "code",
   "execution_count": null,
   "id": "66ba8ffd",
   "metadata": {},
   "outputs": [],
   "source": []
  },
  {
   "cell_type": "code",
   "execution_count": null,
   "id": "12e4543d",
   "metadata": {},
   "outputs": [],
   "source": []
  },
  {
   "cell_type": "code",
   "execution_count": null,
   "id": "1b442552",
   "metadata": {},
   "outputs": [],
   "source": []
  },
  {
   "cell_type": "code",
   "execution_count": null,
   "id": "04e1991e",
   "metadata": {},
   "outputs": [],
   "source": []
  },
  {
   "cell_type": "code",
   "execution_count": null,
   "id": "535cbe0a",
   "metadata": {},
   "outputs": [],
   "source": []
  },
  {
   "cell_type": "code",
   "execution_count": null,
   "id": "aceca54f",
   "metadata": {},
   "outputs": [],
   "source": []
  },
  {
   "cell_type": "code",
   "execution_count": null,
   "id": "ee7d2328",
   "metadata": {},
   "outputs": [],
   "source": []
  },
  {
   "cell_type": "code",
   "execution_count": null,
   "id": "4610b657",
   "metadata": {},
   "outputs": [],
   "source": []
  },
  {
   "cell_type": "code",
   "execution_count": null,
   "id": "3e5f528d",
   "metadata": {},
   "outputs": [],
   "source": []
  },
  {
   "cell_type": "code",
   "execution_count": 21,
   "id": "3c608e6b",
   "metadata": {},
   "outputs": [],
   "source": [
    "import pandas as pd\n",
    "import numpy as np\n",
    "import xgboost as xgb\n",
    "from xgboost import XGBClassifier\n",
    "from sklearn.model_selection import train_test_split\n",
    "from sklearn.metrics import roc_auc_score\n",
    "from sklearn.preprocessing import MinMaxScaler\n",
    "import statsmodels.api as sm\n",
    "from sklearn.neighbors import NearestNeighbors\n",
    "\n",
    "# Load your covariates\n",
    "covariates = health_essential + health_compound + social_essential + social_compound\n",
    "\n",
    "# Separate features and target\n",
    "X = df[covariates]\n",
    "y = df['E1_3_1']\n",
    "\n",
    "# Split data into train and test sets\n",
    "X_train, X_test, y_train, y_test = train_test_split(X, y, test_size=0.2, random_state=0)\n",
    "\n",
    "# Train XGBoost model\n",
    "model = XGBClassifier()\n",
    "model.fit(X_train, y_train)\n",
    "\n",
    "# Calculate propensity scores\n",
    "train_preds = model.predict_proba(X_train)[:,1]\n",
    "test_preds = model.predict_proba(X_test)[:,1]\n",
    "\n",
    "# Scale propensity scores to 0-1 range\n",
    "scaler = MinMaxScaler()\n",
    "train_preds = scaler.fit_transform(train_preds.reshape(-1, 1))\n",
    "test_preds = scaler.transform(test_preds.reshape(-1, 1))\n",
    "\n",
    "# Add propensity scores back into dataframe\n",
    "df.loc[X_train.index, 'propensity_score'] = train_preds\n",
    "df.loc[X_test.index, 'propensity_score'] = test_preds\n",
    "\n",
    "# Separate treatment and control groups\n",
    "treatment = df[df['E1_3_1'] == 1]\n",
    "control = df[df['E1_3_1'] == 0]\n",
    "\n",
    "# # One-to-one matching\n",
    "# neigh = NearestNeighbors(n_neighbors=1)\n",
    "# neigh.fit(control['propensity_score'].values.reshape(-1, 1))\n",
    "\n",
    "# distances, indices = neigh.kneighbors(treatment['propensity_score'].values.reshape(-1, 1))\n",
    "\n",
    "# matched = control.iloc[indices.reshape(-1)]\n",
    "\n",
    "# # Now, 'treatment' and 'matched' dataframes contain the treatment group and matched control group respectively\n",
    "\n",
    "# Fit nearest neighbors model\n",
    "neigh = NearestNeighbors(n_neighbors=1)\n",
    "neigh.fit(np.array(control['propensity_score']).reshape(-1, 1))\n",
    "\n",
    "matched_indices = []\n",
    "control_indices = list(control.index)\n",
    "\n",
    "for treated_index in treatment.index:\n",
    "    treated_ps = treatment.loc[treated_index, 'propensity_score']\n",
    "    distance, index = neigh.kneighbors(np.array([treated_ps]).reshape(1, -1))\n",
    "    matched_index = control_indices[index[0][0]]\n",
    "    \n",
    "    # Add matched index to list\n",
    "    matched_indices.append(matched_index)\n",
    "    \n",
    "    # Remove matched index from available control indices and from nearest neighbors model\n",
    "    control_indices.remove(matched_index)\n",
    "    neigh.fit(np.array(control.loc[control_indices, 'propensity_score']).reshape(-1, 1))\n",
    "\n",
    "# Now you have unique control units for each treated unit\n",
    "matched = control.loc[matched_indices]\n"
   ]
  },
  {
   "cell_type": "code",
   "execution_count": 22,
   "id": "43035b3f",
   "metadata": {},
   "outputs": [
    {
     "data": {
      "text/html": [
       "<div>\n",
       "<style scoped>\n",
       "    .dataframe tbody tr th:only-of-type {\n",
       "        vertical-align: middle;\n",
       "    }\n",
       "\n",
       "    .dataframe tbody tr th {\n",
       "        vertical-align: top;\n",
       "    }\n",
       "\n",
       "    .dataframe thead th {\n",
       "        text-align: right;\n",
       "    }\n",
       "</style>\n",
       "<table border=\"1\" class=\"dataframe\">\n",
       "  <thead>\n",
       "    <tr style=\"text-align: right;\">\n",
       "      <th></th>\n",
       "      <th>E1_3_1</th>\n",
       "      <th>propensity_score</th>\n",
       "    </tr>\n",
       "  </thead>\n",
       "  <tbody>\n",
       "    <tr>\n",
       "      <th>4730</th>\n",
       "      <td>0</td>\n",
       "      <td>0.774777</td>\n",
       "    </tr>\n",
       "    <tr>\n",
       "      <th>5050</th>\n",
       "      <td>0</td>\n",
       "      <td>0.742393</td>\n",
       "    </tr>\n",
       "    <tr>\n",
       "      <th>5266</th>\n",
       "      <td>0</td>\n",
       "      <td>0.730081</td>\n",
       "    </tr>\n",
       "    <tr>\n",
       "      <th>2602</th>\n",
       "      <td>0</td>\n",
       "      <td>0.715446</td>\n",
       "    </tr>\n",
       "    <tr>\n",
       "      <th>7419</th>\n",
       "      <td>0</td>\n",
       "      <td>0.676843</td>\n",
       "    </tr>\n",
       "    <tr>\n",
       "      <th>...</th>\n",
       "      <td>...</td>\n",
       "      <td>...</td>\n",
       "    </tr>\n",
       "    <tr>\n",
       "      <th>4624</th>\n",
       "      <td>0</td>\n",
       "      <td>0.079099</td>\n",
       "    </tr>\n",
       "    <tr>\n",
       "      <th>1833</th>\n",
       "      <td>0</td>\n",
       "      <td>0.070878</td>\n",
       "    </tr>\n",
       "    <tr>\n",
       "      <th>9660</th>\n",
       "      <td>0</td>\n",
       "      <td>0.078892</td>\n",
       "    </tr>\n",
       "    <tr>\n",
       "      <th>148</th>\n",
       "      <td>0</td>\n",
       "      <td>0.078593</td>\n",
       "    </tr>\n",
       "    <tr>\n",
       "      <th>9035</th>\n",
       "      <td>0</td>\n",
       "      <td>0.078531</td>\n",
       "    </tr>\n",
       "  </tbody>\n",
       "</table>\n",
       "<p>822 rows × 2 columns</p>\n",
       "</div>"
      ],
      "text/plain": [
       "      E1_3_1  propensity_score\n",
       "4730       0          0.774777\n",
       "5050       0          0.742393\n",
       "5266       0          0.730081\n",
       "2602       0          0.715446\n",
       "7419       0          0.676843\n",
       "...      ...               ...\n",
       "4624       0          0.079099\n",
       "1833       0          0.070878\n",
       "9660       0          0.078892\n",
       "148        0          0.078593\n",
       "9035       0          0.078531\n",
       "\n",
       "[822 rows x 2 columns]"
      ]
     },
     "execution_count": 22,
     "metadata": {},
     "output_type": "execute_result"
    }
   ],
   "source": [
    "matched[['E1_3_1','propensity_score']]"
   ]
  },
  {
   "cell_type": "markdown",
   "id": "c3612b20",
   "metadata": {},
   "source": [
    "문제: 1. 포인트 중복사용 과다"
   ]
  },
  {
   "cell_type": "code",
   "execution_count": 24,
   "id": "6a35ba8b",
   "metadata": {},
   "outputs": [
    {
     "data": {
      "text/plain": [
       "<AxesSubplot:title={'center':'Feature importance'}, xlabel='F score', ylabel='Features'>"
      ]
     },
     "execution_count": 24,
     "metadata": {},
     "output_type": "execute_result"
    },
    {
     "data": {
      "image/png": "[encoded data removed]",
      "text/plain": [
       "<Figure size 432x288 with 1 Axes>"
      ]
     },
     "metadata": {
      "needs_background": "light"
     },
     "output_type": "display_data"
    }
   ],
   "source": [
    "xgb.plot_importance(model)"
   ]
  },
  {
   "cell_type": "code",
   "execution_count": 26,
   "id": "b18601c1",
   "metadata": {},
   "outputs": [
    {
     "data": {
      "text/html": [
       "<div>\n",
       "<style scoped>\n",
       "    .dataframe tbody tr th:only-of-type {\n",
       "        vertical-align: middle;\n",
       "    }\n",
       "\n",
       "    .dataframe tbody tr th {\n",
       "        vertical-align: top;\n",
       "    }\n",
       "\n",
       "    .dataframe thead th {\n",
       "        text-align: right;\n",
       "    }\n",
       "</style>\n",
       "<table border=\"1\" class=\"dataframe\">\n",
       "  <thead>\n",
       "    <tr style=\"text-align: right;\">\n",
       "      <th></th>\n",
       "      <th>Feature</th>\n",
       "      <th>Importance</th>\n",
       "    </tr>\n",
       "  </thead>\n",
       "  <tbody>\n",
       "    <tr>\n",
       "      <th>18</th>\n",
       "      <td>B10_BMI</td>\n",
       "      <td>310.0</td>\n",
       "    </tr>\n",
       "    <tr>\n",
       "      <th>0</th>\n",
       "      <td>RES_AGE</td>\n",
       "      <td>174.0</td>\n",
       "    </tr>\n",
       "    <tr>\n",
       "      <th>17</th>\n",
       "      <td>B9_3a</td>\n",
       "      <td>141.0</td>\n",
       "    </tr>\n",
       "    <tr>\n",
       "      <th>22</th>\n",
       "      <td>C5_SUM</td>\n",
       "      <td>137.0</td>\n",
       "    </tr>\n",
       "    <tr>\n",
       "      <th>14</th>\n",
       "      <td>I1x1</td>\n",
       "      <td>132.0</td>\n",
       "    </tr>\n",
       "    <tr>\n",
       "      <th>...</th>\n",
       "      <td>...</td>\n",
       "      <td>...</td>\n",
       "    </tr>\n",
       "    <tr>\n",
       "      <th>13</th>\n",
       "      <td>C10_1_2</td>\n",
       "      <td>4.0</td>\n",
       "    </tr>\n",
       "    <tr>\n",
       "      <th>29</th>\n",
       "      <td>S6_3</td>\n",
       "      <td>4.0</td>\n",
       "    </tr>\n",
       "    <tr>\n",
       "      <th>64</th>\n",
       "      <td>AREA_37</td>\n",
       "      <td>3.0</td>\n",
       "    </tr>\n",
       "    <tr>\n",
       "      <th>27</th>\n",
       "      <td>S6_1</td>\n",
       "      <td>3.0</td>\n",
       "    </tr>\n",
       "    <tr>\n",
       "      <th>57</th>\n",
       "      <td>AREA_29</td>\n",
       "      <td>2.0</td>\n",
       "    </tr>\n",
       "  </tbody>\n",
       "</table>\n",
       "<p>70 rows × 2 columns</p>\n",
       "</div>"
      ],
      "text/plain": [
       "    Feature  Importance\n",
       "18  B10_BMI       310.0\n",
       "0   RES_AGE       174.0\n",
       "17    B9_3a       141.0\n",
       "22   C5_SUM       137.0\n",
       "14     I1x1       132.0\n",
       "..      ...         ...\n",
       "13  C10_1_2         4.0\n",
       "29     S6_3         4.0\n",
       "64  AREA_37         3.0\n",
       "27     S6_1         3.0\n",
       "57  AREA_29         2.0\n",
       "\n",
       "[70 rows x 2 columns]"
      ]
     },
     "execution_count": 26,
     "metadata": {},
     "output_type": "execute_result"
    }
   ],
   "source": [
    "# Get feature importances\n",
    "importance_dict = model.get_booster().get_score(importance_type='weight')\n",
    "\n",
    "# Convert dictionary to dataframe\n",
    "importance_df = pd.DataFrame({\n",
    "    'Feature': list(importance_dict.keys()),\n",
    "    'Importance': list(importance_dict.values())\n",
    "})\n",
    "\n",
    "# Sort dataframe by importance\n",
    "importance_df = importance_df.sort_values(by='Importance', ascending=False)"
   ]
  },
  {
   "cell_type": "code",
   "execution_count": null,
   "id": "26075955",
   "metadata": {},
   "outputs": [],
   "source": []
  },
  {
   "cell_type": "code",
   "execution_count": null,
   "id": "8196498c",
   "metadata": {},
   "outputs": [],
   "source": []
  },
  {
   "cell_type": "code",
   "execution_count": 5,
   "id": "a83015ad",
   "metadata": {},
   "outputs": [
    {
     "name": "stderr",
     "output_type": "stream",
     "text": [
      "/Users/gimmin-u/opt/anaconda3/lib/python3.9/site-packages/xgboost/sklearn.py:1395: UserWarning: `use_label_encoder` is deprecated in 1.7.0.\n",
      "  warnings.warn(\"`use_label_encoder` is deprecated in 1.7.0.\")\n"
     ]
    },
    {
     "name": "stdout",
     "output_type": "stream",
     "text": [
      "Best model: xgboost with covariates ['RES_AGE', 'RES_SEX', 'B1', 'B3', 'B4', 'B4_1_etc', 'B5_1_etc_1', 'B5_1_etc_2', 'B5_2_etc_1', 'B5_2_etc_2', 'B7', 'B8', 'B8_1a', 'B9', 'C4', 'C10_1_2', 'I1x1', 'B2_3', 'B6_SUM', 'B9_3a', 'B10_BMI', 'B11_SUM', 'C_SUM_1', 'C_SUM_2', 'C5_SUM', 'C_6_7_SUM']. Max SMD: nan\n"
     ]
    }
   ],
   "source": [
    "# Load your data\n",
    "# df = pd.read_csv(\"your_data.csv\")\n",
    "\n",
    "# Define your models\n",
    "models = {\n",
    "    \"xgboost\": XGBClassifier(use_label_encoder=False, eval_metric=\"logloss\"),\n",
    "    \"random_forest\": RandomForestClassifier()\n",
    "}\n",
    "\n",
    "# Define different combinations of covariates\n",
    "covariate_sets = [\n",
    "\n",
    "    health_essential + health_compound,\n",
    "    health_essential + health_raw,\n",
    "    social_essential + social_compound,\n",
    "    social_essential + social_raw,\n",
    "    life_essential + life_compound,\n",
    "    life_essential + life_raw,\n",
    "    health_essential + health_compound + social_essential + social_compound,\n",
    "    social_essential + social_compound + life_essential + life_compound,\n",
    "    health_essential + health_compound + life_essential + life_compound,\n",
    "    health_essential + health_compound + social_essential + social_compound + life_essential + life_compound\n",
    "    \n",
    "    # Add more if needed\n",
    "]\n",
    "\n",
    "# Set up cross-validation\n",
    "kfold = StratifiedKFold(n_splits=5, random_state=42, shuffle=True)\n",
    "\n",
    "# Placeholder for results\n",
    "results = []\n",
    "\n",
    "# For each model and each set of covariates\n",
    "for model_name, model in models.items():\n",
    "    for covariates in covariate_sets:\n",
    "        # Estimate propensity scores with cross-validation\n",
    "        treatment = df['E1_3_1']\n",
    "#         outcome = df['outcome']\n",
    "        covariate_data = df[covariates]\n",
    "        propensity_scores = np.zeros(len(treatment))\n",
    "        for train_index, test_index in kfold.split(covariate_data, treatment):\n",
    "            X_train, X_test = covariate_data.iloc[train_index], covariate_data.iloc[test_index]\n",
    "            y_train, y_test = treatment.iloc[train_index], treatment.iloc[test_index]\n",
    "            model.fit(X_train, y_train)\n",
    "            propensity_scores[test_index] = model.predict_proba(X_test)[:,1]\n",
    "\n",
    "        # Match on propensity scores\n",
    "        df['propensity_score'] = propensity_scores\n",
    "        treated = df[df['E1_3_1'] == 1]\n",
    "        untreated = df[df['E1_3_1'] == 0]\n",
    "        nbrs = NearestNeighbors(n_neighbors=len(untreated), algorithm='ball_tree').fit(untreated['propensity_score'].values.reshape(-1,1))\n",
    "        distances, indices = nbrs.kneighbors(treated['propensity_score'].values.reshape(-1,1))\n",
    "\n",
    "        matched_indices = []\n",
    "        for index_set in indices:\n",
    "            for index in index_set:\n",
    "                if index not in matched_indices:\n",
    "                    matched_indices.append(index)\n",
    "                    break\n",
    "\n",
    "        matches = treated.assign(match=matched_indices).reset_index(drop=True)\n",
    "        matches = pd.concat([matches, untreated.reset_index(drop=True).loc[matches['match']]], axis=1)\n",
    "\n",
    "\n",
    "        # Calculate maximum standardized mean difference\n",
    "        covariate_differences = matches[covariates].iloc[:, :len(covariates)] - matches[covariates].iloc[:, len(covariates):]\n",
    "        covariate_standard_deviation = covariate_differences.std()\n",
    "        covariate_mean_difference = covariate_differences.mean()\n",
    "        standardized_mean_differences = (covariate_mean_difference / covariate_standard_deviation).abs()\n",
    "        max_smd = standardized_mean_differences.max()\n",
    "\n",
    "        # Save results\n",
    "        results.append({\n",
    "            \"model\": model_name,\n",
    "            \"covariates\": covariates,\n",
    "            \"max_smd\": max_smd\n",
    "        })\n",
    "\n",
    "# Find the model and covariate set with the lowest error\n",
    "best_result = min(results, key=lambda x: x[\"max_smd\"])\n",
    "print(f\"Best model: {best_result['model']} with covariates {best_result['covariates']}. Max SMD: {best_result['max_smd']}\")\n"
   ]
  },
  {
   "cell_type": "code",
   "execution_count": 6,
   "id": "f0a43ac7",
   "metadata": {},
   "outputs": [
    {
     "data": {
      "text/html": [
       "<div>\n",
       "<style scoped>\n",
       "    .dataframe tbody tr th:only-of-type {\n",
       "        vertical-align: middle;\n",
       "    }\n",
       "\n",
       "    .dataframe tbody tr th {\n",
       "        vertical-align: top;\n",
       "    }\n",
       "\n",
       "    .dataframe thead th {\n",
       "        text-align: right;\n",
       "    }\n",
       "</style>\n",
       "<table border=\"1\" class=\"dataframe\">\n",
       "  <thead>\n",
       "    <tr style=\"text-align: right;\">\n",
       "      <th></th>\n",
       "      <th>RES_AGE</th>\n",
       "      <th>RES_SEX</th>\n",
       "      <th>B1</th>\n",
       "      <th>B3</th>\n",
       "      <th>B4</th>\n",
       "      <th>B4_1_etc</th>\n",
       "      <th>B5_1_etc_1</th>\n",
       "      <th>B5_1_etc_2</th>\n",
       "      <th>B5_2_etc_1</th>\n",
       "      <th>B5_2_etc_2</th>\n",
       "      <th>...</th>\n",
       "      <th>D11_2_SUM</th>\n",
       "      <th>D13_SUM</th>\n",
       "      <th>D14_SUM</th>\n",
       "      <th>H3_SUM</th>\n",
       "      <th>H4_SUM</th>\n",
       "      <th>H13_SUM</th>\n",
       "      <th>H14_1_SUM</th>\n",
       "      <th>H16_SUM</th>\n",
       "      <th>E1_3_1</th>\n",
       "      <th>propensity_score</th>\n",
       "    </tr>\n",
       "  </thead>\n",
       "  <tbody>\n",
       "    <tr>\n",
       "      <th>0</th>\n",
       "      <td>67.0</td>\n",
       "      <td>2.0</td>\n",
       "      <td>2.0</td>\n",
       "      <td>2.0</td>\n",
       "      <td>1.0</td>\n",
       "      <td>1.0</td>\n",
       "      <td>0.0</td>\n",
       "      <td>0.0</td>\n",
       "      <td>0.0</td>\n",
       "      <td>0.0</td>\n",
       "      <td>...</td>\n",
       "      <td>NaN</td>\n",
       "      <td>NaN</td>\n",
       "      <td>NaN</td>\n",
       "      <td>NaN</td>\n",
       "      <td>NaN</td>\n",
       "      <td>NaN</td>\n",
       "      <td>NaN</td>\n",
       "      <td>NaN</td>\n",
       "      <td>NaN</td>\n",
       "      <td>NaN</td>\n",
       "    </tr>\n",
       "    <tr>\n",
       "      <th>1</th>\n",
       "      <td>68.0</td>\n",
       "      <td>2.0</td>\n",
       "      <td>3.0</td>\n",
       "      <td>4.0</td>\n",
       "      <td>1.0</td>\n",
       "      <td>1.0</td>\n",
       "      <td>0.0</td>\n",
       "      <td>0.0</td>\n",
       "      <td>1.0</td>\n",
       "      <td>3.0</td>\n",
       "      <td>...</td>\n",
       "      <td>NaN</td>\n",
       "      <td>NaN</td>\n",
       "      <td>NaN</td>\n",
       "      <td>NaN</td>\n",
       "      <td>NaN</td>\n",
       "      <td>NaN</td>\n",
       "      <td>NaN</td>\n",
       "      <td>NaN</td>\n",
       "      <td>NaN</td>\n",
       "      <td>NaN</td>\n",
       "    </tr>\n",
       "    <tr>\n",
       "      <th>2</th>\n",
       "      <td>79.0</td>\n",
       "      <td>2.0</td>\n",
       "      <td>2.0</td>\n",
       "      <td>1.0</td>\n",
       "      <td>1.0</td>\n",
       "      <td>1.0</td>\n",
       "      <td>0.0</td>\n",
       "      <td>0.0</td>\n",
       "      <td>0.0</td>\n",
       "      <td>0.0</td>\n",
       "      <td>...</td>\n",
       "      <td>NaN</td>\n",
       "      <td>NaN</td>\n",
       "      <td>NaN</td>\n",
       "      <td>NaN</td>\n",
       "      <td>NaN</td>\n",
       "      <td>NaN</td>\n",
       "      <td>NaN</td>\n",
       "      <td>NaN</td>\n",
       "      <td>NaN</td>\n",
       "      <td>NaN</td>\n",
       "    </tr>\n",
       "    <tr>\n",
       "      <th>3</th>\n",
       "      <td>75.0</td>\n",
       "      <td>2.0</td>\n",
       "      <td>3.0</td>\n",
       "      <td>2.0</td>\n",
       "      <td>1.0</td>\n",
       "      <td>1.0</td>\n",
       "      <td>0.0</td>\n",
       "      <td>0.0</td>\n",
       "      <td>0.0</td>\n",
       "      <td>0.0</td>\n",
       "      <td>...</td>\n",
       "      <td>NaN</td>\n",
       "      <td>NaN</td>\n",
       "      <td>NaN</td>\n",
       "      <td>NaN</td>\n",
       "      <td>NaN</td>\n",
       "      <td>NaN</td>\n",
       "      <td>NaN</td>\n",
       "      <td>NaN</td>\n",
       "      <td>NaN</td>\n",
       "      <td>NaN</td>\n",
       "    </tr>\n",
       "    <tr>\n",
       "      <th>4</th>\n",
       "      <td>69.0</td>\n",
       "      <td>2.0</td>\n",
       "      <td>1.0</td>\n",
       "      <td>0.0</td>\n",
       "      <td>0.0</td>\n",
       "      <td>0.0</td>\n",
       "      <td>0.0</td>\n",
       "      <td>0.0</td>\n",
       "      <td>0.0</td>\n",
       "      <td>0.0</td>\n",
       "      <td>...</td>\n",
       "      <td>NaN</td>\n",
       "      <td>NaN</td>\n",
       "      <td>NaN</td>\n",
       "      <td>NaN</td>\n",
       "      <td>NaN</td>\n",
       "      <td>NaN</td>\n",
       "      <td>NaN</td>\n",
       "      <td>NaN</td>\n",
       "      <td>NaN</td>\n",
       "      <td>NaN</td>\n",
       "    </tr>\n",
       "    <tr>\n",
       "      <th>...</th>\n",
       "      <td>...</td>\n",
       "      <td>...</td>\n",
       "      <td>...</td>\n",
       "      <td>...</td>\n",
       "      <td>...</td>\n",
       "      <td>...</td>\n",
       "      <td>...</td>\n",
       "      <td>...</td>\n",
       "      <td>...</td>\n",
       "      <td>...</td>\n",
       "      <td>...</td>\n",
       "      <td>...</td>\n",
       "      <td>...</td>\n",
       "      <td>...</td>\n",
       "      <td>...</td>\n",
       "      <td>...</td>\n",
       "      <td>...</td>\n",
       "      <td>...</td>\n",
       "      <td>...</td>\n",
       "      <td>...</td>\n",
       "      <td>...</td>\n",
       "    </tr>\n",
       "    <tr>\n",
       "      <th>7703</th>\n",
       "      <td>NaN</td>\n",
       "      <td>NaN</td>\n",
       "      <td>NaN</td>\n",
       "      <td>NaN</td>\n",
       "      <td>NaN</td>\n",
       "      <td>NaN</td>\n",
       "      <td>NaN</td>\n",
       "      <td>NaN</td>\n",
       "      <td>NaN</td>\n",
       "      <td>NaN</td>\n",
       "      <td>...</td>\n",
       "      <td>4.0</td>\n",
       "      <td>2.000000</td>\n",
       "      <td>3.0</td>\n",
       "      <td>20.0</td>\n",
       "      <td>11.0</td>\n",
       "      <td>0.0</td>\n",
       "      <td>0.0</td>\n",
       "      <td>14.00000</td>\n",
       "      <td>0.0</td>\n",
       "      <td>0.01</td>\n",
       "    </tr>\n",
       "    <tr>\n",
       "      <th>1335</th>\n",
       "      <td>NaN</td>\n",
       "      <td>NaN</td>\n",
       "      <td>NaN</td>\n",
       "      <td>NaN</td>\n",
       "      <td>NaN</td>\n",
       "      <td>NaN</td>\n",
       "      <td>NaN</td>\n",
       "      <td>NaN</td>\n",
       "      <td>NaN</td>\n",
       "      <td>NaN</td>\n",
       "      <td>...</td>\n",
       "      <td>2.0</td>\n",
       "      <td>1.000000</td>\n",
       "      <td>3.0</td>\n",
       "      <td>20.0</td>\n",
       "      <td>18.0</td>\n",
       "      <td>0.0</td>\n",
       "      <td>0.0</td>\n",
       "      <td>15.13697</td>\n",
       "      <td>0.0</td>\n",
       "      <td>0.11</td>\n",
       "    </tr>\n",
       "    <tr>\n",
       "      <th>1713</th>\n",
       "      <td>NaN</td>\n",
       "      <td>NaN</td>\n",
       "      <td>NaN</td>\n",
       "      <td>NaN</td>\n",
       "      <td>NaN</td>\n",
       "      <td>NaN</td>\n",
       "      <td>NaN</td>\n",
       "      <td>NaN</td>\n",
       "      <td>NaN</td>\n",
       "      <td>NaN</td>\n",
       "      <td>...</td>\n",
       "      <td>3.0</td>\n",
       "      <td>1.000000</td>\n",
       "      <td>3.0</td>\n",
       "      <td>22.0</td>\n",
       "      <td>13.0</td>\n",
       "      <td>0.0</td>\n",
       "      <td>0.0</td>\n",
       "      <td>17.00000</td>\n",
       "      <td>0.0</td>\n",
       "      <td>0.11</td>\n",
       "    </tr>\n",
       "    <tr>\n",
       "      <th>3960</th>\n",
       "      <td>NaN</td>\n",
       "      <td>NaN</td>\n",
       "      <td>NaN</td>\n",
       "      <td>NaN</td>\n",
       "      <td>NaN</td>\n",
       "      <td>NaN</td>\n",
       "      <td>NaN</td>\n",
       "      <td>NaN</td>\n",
       "      <td>NaN</td>\n",
       "      <td>NaN</td>\n",
       "      <td>...</td>\n",
       "      <td>4.0</td>\n",
       "      <td>3.676939</td>\n",
       "      <td>0.0</td>\n",
       "      <td>16.0</td>\n",
       "      <td>14.0</td>\n",
       "      <td>0.0</td>\n",
       "      <td>0.0</td>\n",
       "      <td>14.00000</td>\n",
       "      <td>0.0</td>\n",
       "      <td>0.04</td>\n",
       "    </tr>\n",
       "    <tr>\n",
       "      <th>2819</th>\n",
       "      <td>NaN</td>\n",
       "      <td>NaN</td>\n",
       "      <td>NaN</td>\n",
       "      <td>NaN</td>\n",
       "      <td>NaN</td>\n",
       "      <td>NaN</td>\n",
       "      <td>NaN</td>\n",
       "      <td>NaN</td>\n",
       "      <td>NaN</td>\n",
       "      <td>NaN</td>\n",
       "      <td>...</td>\n",
       "      <td>0.0</td>\n",
       "      <td>3.676939</td>\n",
       "      <td>3.0</td>\n",
       "      <td>14.0</td>\n",
       "      <td>16.0</td>\n",
       "      <td>0.0</td>\n",
       "      <td>0.0</td>\n",
       "      <td>21.00000</td>\n",
       "      <td>0.0</td>\n",
       "      <td>0.05</td>\n",
       "    </tr>\n",
       "  </tbody>\n",
       "</table>\n",
       "<p>1588 rows × 539 columns</p>\n",
       "</div>"
      ],
      "text/plain": [
       "      RES_AGE  RES_SEX   B1   B3   B4  B4_1_etc  B5_1_etc_1  B5_1_etc_2  \\\n",
       "0        67.0      2.0  2.0  2.0  1.0       1.0         0.0         0.0   \n",
       "1        68.0      2.0  3.0  4.0  1.0       1.0         0.0         0.0   \n",
       "2        79.0      2.0  2.0  1.0  1.0       1.0         0.0         0.0   \n",
       "3        75.0      2.0  3.0  2.0  1.0       1.0         0.0         0.0   \n",
       "4        69.0      2.0  1.0  0.0  0.0       0.0         0.0         0.0   \n",
       "...       ...      ...  ...  ...  ...       ...         ...         ...   \n",
       "7703      NaN      NaN  NaN  NaN  NaN       NaN         NaN         NaN   \n",
       "1335      NaN      NaN  NaN  NaN  NaN       NaN         NaN         NaN   \n",
       "1713      NaN      NaN  NaN  NaN  NaN       NaN         NaN         NaN   \n",
       "3960      NaN      NaN  NaN  NaN  NaN       NaN         NaN         NaN   \n",
       "2819      NaN      NaN  NaN  NaN  NaN       NaN         NaN         NaN   \n",
       "\n",
       "      B5_2_etc_1  B5_2_etc_2  ...  D11_2_SUM   D13_SUM  D14_SUM  H3_SUM  \\\n",
       "0            0.0         0.0  ...        NaN       NaN      NaN     NaN   \n",
       "1            1.0         3.0  ...        NaN       NaN      NaN     NaN   \n",
       "2            0.0         0.0  ...        NaN       NaN      NaN     NaN   \n",
       "3            0.0         0.0  ...        NaN       NaN      NaN     NaN   \n",
       "4            0.0         0.0  ...        NaN       NaN      NaN     NaN   \n",
       "...          ...         ...  ...        ...       ...      ...     ...   \n",
       "7703         NaN         NaN  ...        4.0  2.000000      3.0    20.0   \n",
       "1335         NaN         NaN  ...        2.0  1.000000      3.0    20.0   \n",
       "1713         NaN         NaN  ...        3.0  1.000000      3.0    22.0   \n",
       "3960         NaN         NaN  ...        4.0  3.676939      0.0    16.0   \n",
       "2819         NaN         NaN  ...        0.0  3.676939      3.0    14.0   \n",
       "\n",
       "      H4_SUM  H13_SUM  H14_1_SUM   H16_SUM  E1_3_1  propensity_score  \n",
       "0        NaN      NaN        NaN       NaN     NaN               NaN  \n",
       "1        NaN      NaN        NaN       NaN     NaN               NaN  \n",
       "2        NaN      NaN        NaN       NaN     NaN               NaN  \n",
       "3        NaN      NaN        NaN       NaN     NaN               NaN  \n",
       "4        NaN      NaN        NaN       NaN     NaN               NaN  \n",
       "...      ...      ...        ...       ...     ...               ...  \n",
       "7703    11.0      0.0        0.0  14.00000     0.0              0.01  \n",
       "1335    18.0      0.0        0.0  15.13697     0.0              0.11  \n",
       "1713    13.0      0.0        0.0  17.00000     0.0              0.11  \n",
       "3960    14.0      0.0        0.0  14.00000     0.0              0.04  \n",
       "2819    16.0      0.0        0.0  21.00000     0.0              0.05  \n",
       "\n",
       "[1588 rows x 539 columns]"
      ]
     },
     "execution_count": 6,
     "metadata": {},
     "output_type": "execute_result"
    }
   ],
   "source": [
    "matches"
   ]
  },
  {
   "cell_type": "code",
   "execution_count": 33,
   "id": "6dd558f7",
   "metadata": {},
   "outputs": [
    {
     "data": {
      "text/plain": [
       "10"
      ]
     },
     "execution_count": 33,
     "metadata": {},
     "output_type": "execute_result"
    }
   ],
   "source": [
    "len(life_compound)"
   ]
  },
  {
   "cell_type": "code",
   "execution_count": null,
   "id": "6308fa6d",
   "metadata": {},
   "outputs": [],
   "source": []
  },
  {
   "cell_type": "code",
   "execution_count": null,
   "id": "bdd0d412",
   "metadata": {},
   "outputs": [],
   "source": []
  },
  {
   "cell_type": "code",
   "execution_count": null,
   "id": "3ae691cc",
   "metadata": {},
   "outputs": [],
   "source": []
  },
  {
   "cell_type": "code",
   "execution_count": null,
   "id": "1165be7b",
   "metadata": {},
   "outputs": [],
   "source": []
  }
 ],
 "metadata": {
  "kernelspec": {
   "display_name": "Python 3 (ipykernel)",
   "language": "python",
   "name": "python3"
  },
  "language_info": {
   "codemirror_mode": {
    "name": "ipython",
    "version": 3
   },
   "file_extension": ".py",
   "mimetype": "text/x-python",
   "name": "python",
   "nbconvert_exporter": "python",
   "pygments_lexer": "ipython3",
   "version": "3.9.12"
  }
 },
 "nbformat": 4,
 "nbformat_minor": 5
}

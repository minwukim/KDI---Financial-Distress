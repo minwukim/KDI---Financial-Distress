{
 "cells": [
  {
   "cell_type": "code",
   "execution_count": 1,
   "id": "35d00907",
   "metadata": {},
   "outputs": [],
   "source": [
    "import numpy as np\n",
    "import pandas as pd\n",
    "import matplotlib.pyplot as plt\n",
    "import pyreadstat\n",
    "import seaborn as sns"
   ]
  },
  {
   "cell_type": "code",
   "execution_count": 2,
   "id": "4039d744",
   "metadata": {},
   "outputs": [],
   "source": [
    "file_path_2020 = '2020_survey_data.csv'\n",
    "df20 = pd.read_csv(file_path_2020)"
   ]
  },
  {
   "cell_type": "markdown",
   "id": "9378ece5",
   "metadata": {},
   "source": [
    "# 0. Features 분류"
   ]
  },
  {
   "cell_type": "markdown",
   "id": "9d21537c",
   "metadata": {},
   "source": [
    "### Features를 아래와 같이 분류합니다:"
   ]
  },
  {
   "cell_type": "markdown",
   "id": "eb744340",
   "metadata": {},
   "source": [
    "   - 1. 건강상태 관련 (B. 건강상태와 건강행태, C: 기능상태와 간병수발, I: 인지기능)\n",
    "   - 2. 가족관계 관련 (A: 가구일반, F: 가족 및 사회관계, G: 가족간 도움교환)\n",
    "   - 3. 노후생활 관련 (D: 여가 및 사회활동, H: 생활과 노후생활)\n",
    "   - 4. 경제상태 관련 (E. 경제활동, J. 경제상태)"
   ]
  },
  {
   "cell_type": "markdown",
   "id": "636bda01",
   "metadata": {},
   "source": [
    "# 1. 건강상태 관련 (B. 건강상태와 건강행태, C: 기능상태와 간병수발, I: 인지기능)"
   ]
  },
  {
   "cell_type": "markdown",
   "id": "3968826f",
   "metadata": {},
   "source": [
    "\n",
    "\n",
    "1. B1 평소의 건강상태 (1에서 5 점차 나빠짐. 9는 결측치) (9: 177개)\n",
    "2. B2_3 의사진단 만성질환 총 수\n",
    "3. B2_2L_{1-32} 만성질환 i 유무 (예: 1, 아니오: 2) \n",
    "    - B2_2L_1 의사진단 만성질환 유무_고혈압\n",
    "    - B2_2L_2 의사진단 만성질환 유무_뇌졸중(중풍, 뇌경색)\n",
    "    - ...\n",
    "5. B3 현재 3개월 이상 복용하고 있는 의사처방약(종류수)\n",
    "6. B4 지난 1개월 동안 의료기관 이용 여부 (1:있다, 2: 없다)\n",
    "7. B4_1_etc 지난 1개월 동안 의료기관 이용시 횟수 (99 비해당 -> 0으로 바꿔야 함)\n",
    "9. B5_1_etc_1 지난 1년 간 병원 입원시 횟수_요양병원 (99 비해당 -> 0으로 바꿔야 함): 확인 결과 1번 이상 없음. \n",
    "10. B5_1_etc_2 지난 1년 간 병원 입원시 일수_요양병원\t(999 비해당 -> 0으로 바꿔야 함)\n",
    "12. B5_2_etc_1 지난 1년 간 병원 입원시 횟수_그 외 병의원 (99 비해당 -> 0으로 바꿔야 함)\n",
    "13. B5_2_etc_2 지난 1년 간 병원 입원시 일수_그 외 병의원 (999 비해당 -> 0으로 바꿔야 함)\n",
    "14. B6_{1_15}: 우울증 척도 (1: 예, 2: 아니오, 9 비해당)\n",
    "    - B6_1 우울증척도_현재생활 만족\n",
    "    - B6_2 우울증척도_의욕저하\n",
    "    - ...\n",
    "    - *note: 1, 5, 11, 13번 문항: 긍정 질문 (예: 현재에 만족하십니까?) | 그외: 부정 질문*\n",
    "15. B7 현재 흡연 여부 (예: 1, 아니오: 2)\n",
    "16. B8 지난 1년 간 음주 빈도 (0:1년간 안 마심) -> 7: 매일, 비해당: 99 (확인 결과 비해당 없음)\n",
    "17. B8_1a\t음주 시 평균 음주량(잔) (99: 비해당 -> 0으로 바꿔야 함)\n",
    "18. B9 평소 운동 여부 (1:예, 2: 아니요)\n",
    "19. B9_1a\t주당 운동 일수 (9: 비해당 -> 0으로 바꿔야 함)\n",
    "20. B9_2a\t운동 시간(분) (999: 비해당 -> 0으로 바꿔야 함)\n",
    "21. B9_3a 주당 운동 일수 x 운동시간 (B9_1a x B9_2a)\n",
    "21. B10_1 몸무게 (998: 모름/무응답) (998: 14개)\n",
    "22. B10_3 키 (998: 모름/무응답) (998: 17개)\n",
    "23. B10_BMI 몸무게/키\n",
    "23. B11_{1-10}: 영양 관리 상태 (1: 그렇다 2: 아니다)\n",
    "    - B11_1 영양관리_음식의 양, 종류 조절\n",
    "    - B11_2\t영양관리_하루 2끼 미만\n",
    "    - ...\n",
    "24. C1_1 보조기 사용 여부_시력 (1:예(사용), 2: 아니요(미사용))\n",
    "25. C2_1 보조기 사용 여부_청력 (1:예(사용), 2: 아니요(미사용))\n",
    "26. C3_1 보조기 사용 여부_씹기 (1:예(사용), 2: 아니요(미사용))\n",
    "27. C1_2 일상생활의 불편함_시력 (1: 불편하지 않다, 2:불편한 편이다, 3:매우 불편하다, 9:비해당 (177개))\n",
    "28. C2_2 일상생활의 불편함_청력 (1: 불편하지 않다, 2:불편한 편이다, 3:매우 불편하다, 9:비해당 (177개))\n",
    "29. C3_2 일상생활의 불편함_씹기 (1: 불편하지 않다, 2:불편한 편이다, 3:매우 불편하다, 9:비해당 (177개))\n",
    "30. C4 근력상태_의자나 침대에 앉았다가 일어나기 5회 반복\t(1:수행함 2:시도했으나 수행못함 3:수행 시도조차 못 하는 상태, 9:지금 하고싶지 않음 (486개))\n",
    "31. C5_{1-6}: 동작수행 어려움 (1:전혀 어렵지 않다, 2:약간 어렵다, 3:매우 어렵다, 4:전혀 할 수 없다 5: 모르겠다)\n",
    "    - C5_1 동작수행 어려움_운동장 한 바퀴(400m)정도 뛰기\n",
    "    - C5_2 동작수행 어려움_운동장 한 바퀴(400m)정도 걷기\n",
    "    - C5_3 동작수행 어려움_쉬지않고 10계단 오르기\n",
    "    - ...\n",
    "32. C6_{1-7} 도움 필요 여부 (1:완전 자립, 2:부분 도움,3:완전 도움)\n",
    "33. C7_1_{1-7} 도움 필요 여부 (1:완전 자립, 2:부분 도움,3:완전 도움)\n",
    "34. C7_2_{8-10} 도움 필요 여부 (1:완전 자립, 2:적은 부분 도움,3:많은 부분 도움,4:완전 도움)\n",
    "    - C6_1 ADL_옷입기(옷 꺼내기, 단추, 지퍼, 벨트)\n",
    "    - C7_1_1 IADL_몸단장(빗질, 화장, 면도, 손톱ㆍ발톱 깎기)\n",
    "    - C7_2_8 IADL_물건 구매 결정, 돈 지불, 거스름돈 받기\n",
    "    - ...\n",
    "36. C10_1_2\t장애정도 (1:심한 장애인(1-3급), 2:심하지 않은 장애인(4-6급), 9: 비해당 (비장애인))\n",
    "37. I1x1 인지기능_총점 (99: 비해당)"
   ]
  },
  {
   "cell_type": "markdown",
   "id": "c782f970",
   "metadata": {},
   "source": [
    "#### B1 평소의 건강상태 (1에서 5 점차 나빠짐. 9는 결측치) (9: 177개)\n",
    " - 결측치 제외 평균치로 대체합니다."
   ]
  },
  {
   "cell_type": "code",
   "execution_count": 4,
   "id": "c822e27c",
   "metadata": {},
   "outputs": [],
   "source": [
    "mean_value = df20.loc[df20['B1'] != 9, 'B1'].mean()\n",
    "df20['B1'] = df20['B1'].replace(9, mean_value)"
   ]
  },
  {
   "cell_type": "markdown",
   "id": "0ee47009",
   "metadata": {},
   "source": [
    "#### B2_2L_{1-32} 만성질환 i 유무 (예: 1, 아니오: 2)\n",
    " - 아니오의 값을 2에서 0으로 바꿔줍니다."
   ]
  },
  {
   "cell_type": "code",
   "execution_count": 5,
   "id": "20d2385a",
   "metadata": {},
   "outputs": [],
   "source": [
    "cols = [col for col in df20.columns if col.startswith('B2_2L_')]\n",
    "for col in cols:\n",
    "    df20[col] = df20[col].replace(2, 0)"
   ]
  },
  {
   "cell_type": "markdown",
   "id": "04b3739b",
   "metadata": {},
   "source": [
    "#### B4 지난 1개월 동안 의료기관 이용 여부 (1:있다, 2: 없다)\n",
    " - 아니오의 값을 2에서 0으로 바꿔줍니다."
   ]
  },
  {
   "cell_type": "code",
   "execution_count": 6,
   "id": "b87080cd",
   "metadata": {},
   "outputs": [],
   "source": [
    "df20['B4'] = df20['B4'].replace(2, 0)"
   ]
  },
  {
   "cell_type": "markdown",
   "id": "d3b715a5",
   "metadata": {},
   "source": [
    "#### B4_1_etc 지난 1개월 동안 의료기관 이용시 횟수 (99 비해당 -> 0으로 바꿔야 함)\n",
    " - 비해당의 값을 99에서 0으로 바꿔줍니다."
   ]
  },
  {
   "cell_type": "code",
   "execution_count": 7,
   "id": "0e9e1b76",
   "metadata": {},
   "outputs": [],
   "source": [
    "df20['B4_1_etc'] = df20['B4_1_etc'].replace(99, 0)"
   ]
  },
  {
   "cell_type": "markdown",
   "id": "1e438b27",
   "metadata": {},
   "source": [
    "#### B5_1_etc_1 지난 1년 간 병원 입원시 횟수_요양병원 (99 비해당 -> 0으로 바꿔야 함)\n",
    " - 비해당의 값을 99에서 0으로 바꿔줍니다."
   ]
  },
  {
   "cell_type": "code",
   "execution_count": 8,
   "id": "676f3268",
   "metadata": {},
   "outputs": [],
   "source": [
    "df20['B5_1_etc_1'] = df20['B5_1_etc_1'].replace(99, 0)"
   ]
  },
  {
   "cell_type": "markdown",
   "id": "d503797d",
   "metadata": {},
   "source": [
    "#### B5_1_etc_2 지난 1년 간 병원 입원시 일수_요양병원\t(999 비해당 -> 0으로 바꿔야 함)\n",
    " - 비해당의 값을 999에서 0으로 바꿔줍니다."
   ]
  },
  {
   "cell_type": "code",
   "execution_count": 9,
   "id": "8622b151",
   "metadata": {},
   "outputs": [],
   "source": [
    "df20['B5_1_etc_2'] = df20['B5_1_etc_2'].replace(999, 0)"
   ]
  },
  {
   "cell_type": "markdown",
   "id": "ada7779d",
   "metadata": {},
   "source": [
    "#### B5_2_etc_1 지난 1년 간 병원 입원시 횟수_그 외 병의원 (99 비해당 -> 0으로 바꿔야 함)\n",
    " - 비해당의 값을 99에서 0으로 바꿔줍니다."
   ]
  },
  {
   "cell_type": "code",
   "execution_count": 10,
   "id": "5f2ee2fc",
   "metadata": {},
   "outputs": [],
   "source": [
    "df20['B5_2_etc_1'] = df20['B5_2_etc_1'].replace(99, 0)"
   ]
  },
  {
   "cell_type": "markdown",
   "id": "8a9f0d6b",
   "metadata": {},
   "source": [
    "#### B5_2_etc_2 지난 1년 간 병원 입원시 일수_그 외 병의원 (999 비해당 -> 0으로 바꿔야 함)"
   ]
  },
  {
   "cell_type": "code",
   "execution_count": 11,
   "id": "74467ead",
   "metadata": {},
   "outputs": [],
   "source": [
    "df20['B5_2_etc_2'] = df20['B5_2_etc_2'].replace(999, 0)"
   ]
  },
  {
   "cell_type": "markdown",
   "id": "36773952",
   "metadata": {},
   "source": [
    "#### B6_{1_15}: 우울증 척도 (1: 예, 2: 아니오, 9 비해당)\n",
    " - 1. 제 1, 5, 11, 13번 문항: \"예\"의 값을 1에서 0으로, \"아니오\"의 값을 2에서 1로 바꿔줍니다.\n",
    " - 2. 나머지 문항: \"아니오\"의 값을 2에서 0으로 바꿔줍니다.\n",
    " - 3. 비해당의 값을 9에서 결측치 제외 평균으로 바꿔줍니다. <결측치 177개는 제거하지 않습니다>"
   ]
  },
  {
   "cell_type": "code",
   "execution_count": 12,
   "id": "6242fe64",
   "metadata": {},
   "outputs": [],
   "source": [
    "# Columns where 'yes' is changed from 1 to 0 and 'no' is changed from 2 to 1\n",
    "for col in ['B6_1', 'B6_5', 'B6_11', 'B6_13']:\n",
    "    df20[col] = df20[col].replace({1:0, 2:1})\n",
    "\n",
    "# For all 'B6_' columns, 'no' is changed from 2 to 0\n",
    "for col in df20.columns:\n",
    "    if col.startswith('B6_') and col not in ['B6_1', 'B6_5', 'B6_11', 'B6_13']:\n",
    "        df20[col] = df20[col].replace(2, 0)\n",
    "\n",
    "# For all 'B6_' columns, 'not applicable' is changed from 9 to mean excluding 9\n",
    "for col in df20.columns:\n",
    "    if col.startswith('B6_'):\n",
    "        mean_value = df20.loc[df20[col] != 9, col].mean()\n",
    "        df20[col] = df20[col].replace(9, mean_value)\n"
   ]
  },
  {
   "cell_type": "markdown",
   "id": "997d1116",
   "metadata": {},
   "source": [
    "#### B7 현재 흡연 여부 (예: 1, 아니오: 2)\n",
    " - 아니오의 값을 2에서 0으로 바꿔줍니다."
   ]
  },
  {
   "cell_type": "code",
   "execution_count": 13,
   "id": "f1386f2b",
   "metadata": {},
   "outputs": [],
   "source": [
    "df20['B7'] = df20['B7'].replace(2, 0)"
   ]
  },
  {
   "cell_type": "markdown",
   "id": "648035f4",
   "metadata": {},
   "source": [
    "#### B8_1a 음주 시 평균 음주량(잔) (99: 비해당 -> 0으로 바꿔야 함)\n",
    " - 비해당의 값을 99에서 0으로 바꿔줍니다."
   ]
  },
  {
   "cell_type": "code",
   "execution_count": 14,
   "id": "c636d2cc",
   "metadata": {},
   "outputs": [],
   "source": [
    "df20['B8_1a'] = df20['B8_1a'].replace(99, 0)"
   ]
  },
  {
   "cell_type": "markdown",
   "id": "d00cff0b",
   "metadata": {},
   "source": [
    "#### B9 평소 운동 여부 (1:예, 2: 아니요)\n",
    " -  아니오의 값을 2에서 0으로 바꿔줍니다.\n",
    " "
   ]
  },
  {
   "cell_type": "code",
   "execution_count": 15,
   "id": "e1bd8798",
   "metadata": {},
   "outputs": [],
   "source": [
    "df20['B9'] = df20['B9'].replace(2, 0)"
   ]
  },
  {
   "cell_type": "markdown",
   "id": "d8c57be0",
   "metadata": {},
   "source": [
    "#### B9_1a 주당 운동 일수 (9: 비해당 -> 0으로 바꿔야 함)\n",
    " - 비해당의 값을 9에서 0으로 바꿔줍니다."
   ]
  },
  {
   "cell_type": "code",
   "execution_count": 16,
   "id": "dd4390d4",
   "metadata": {},
   "outputs": [],
   "source": [
    "df20['B9_1a'] = df20['B9_1a'].replace(9, 0)"
   ]
  },
  {
   "cell_type": "markdown",
   "id": "cebe3f81",
   "metadata": {},
   "source": [
    "#### B9_2a 운동 시간(분) (999: 비해당 -> 0으로 바꿔야 함)\n",
    " - 비해당의 값을 999에서 0으로 바꿔줍니다."
   ]
  },
  {
   "cell_type": "code",
   "execution_count": 17,
   "id": "c6f93b65",
   "metadata": {},
   "outputs": [],
   "source": [
    "df20['B9_2a'] = df20['B9_2a'].replace(999, 0)"
   ]
  },
  {
   "cell_type": "markdown",
   "id": "7014cbba",
   "metadata": {},
   "source": [
    "#### B9_3a 주당 운동 일수 x 운동시간 (B9_1a x B9_2a)\n",
    " - B9_1a와 B9_2a를 곱해줍니다. "
   ]
  },
  {
   "cell_type": "code",
   "execution_count": 18,
   "id": "0d3cdc57",
   "metadata": {},
   "outputs": [],
   "source": [
    "df20['B9_3a'] = df20['B9_1a'] * df20['B9_2a']"
   ]
  },
  {
   "cell_type": "markdown",
   "id": "90537319",
   "metadata": {},
   "source": [
    "#### B10_1 몸무게 (998: 모름/무응답) (998: 14개)\n",
    " - 결측치를 998에서 평균치로 바꿔줍니다."
   ]
  },
  {
   "cell_type": "code",
   "execution_count": 19,
   "id": "ec43acc7",
   "metadata": {},
   "outputs": [],
   "source": [
    "mean_value = df20.loc[df20['B10_1'] != 998, 'B10_1'].mean()\n",
    "df20['B10_1'] = df20['B10_1'].replace(998, mean_value)"
   ]
  },
  {
   "cell_type": "markdown",
   "id": "a1e68119",
   "metadata": {},
   "source": [
    "#### B10_3 키 (998: 모름/무응답) (998: 17개)\n",
    " - 결측치를 998에서 평균치로 바꿔줍니다."
   ]
  },
  {
   "cell_type": "code",
   "execution_count": 20,
   "id": "5ee292bf",
   "metadata": {},
   "outputs": [],
   "source": [
    "mean_value = df20.loc[df20['B10_3'] != 998, 'B10_3'].mean()\n",
    "df20['B10_3'] = df20['B10_3'].replace(998, mean_value)"
   ]
  },
  {
   "cell_type": "markdown",
   "id": "9d40a479",
   "metadata": {},
   "source": [
    "#### B10_BMI: 몸무게/키"
   ]
  },
  {
   "cell_type": "code",
   "execution_count": 21,
   "id": "b585e790",
   "metadata": {},
   "outputs": [],
   "source": [
    "df20['B10_BMI'] = df20['B10_1'] / df20['B10_3']"
   ]
  },
  {
   "cell_type": "markdown",
   "id": "649fbb85",
   "metadata": {},
   "source": [
    "#### B11_{1-10}: 영양 관리 상태 (1: 그렇다 2: 아니다)\n",
    "   - 아니오의 값을 2에서 0으로 바꿔줍니다."
   ]
  },
  {
   "cell_type": "code",
   "execution_count": 22,
   "id": "6b9d4334",
   "metadata": {},
   "outputs": [],
   "source": [
    "cols = [col for col in df20.columns if col.startswith('B11_')]\n",
    "for col in cols:\n",
    "    df20[col] = df20[col].replace(2, 0)"
   ]
  },
  {
   "cell_type": "markdown",
   "id": "5b32fe1a",
   "metadata": {},
   "source": [
    "#### C1_1 보조기 사용 여부_시력 (1:예(사용), 2: 아니요(미사용))\n",
    "   - 아니오의 값을 2에서 0으로 바꿔줍니다.\n",
    "\n",
    "#### C2_1 보조기 사용 여부_청력 (1:예(사용), 2: 아니요(미사용))\n",
    "   - 아니오의 값을 2에서 0으로 바꿔줍니다.\n",
    "\n",
    "#### C3_1 보조기 사용 여부_씹기 (1:예(사용), 2: 아니요(미사용))\n",
    "   - 아니오의 값을 2에서 0으로 바꿔줍니다."
   ]
  },
  {
   "cell_type": "code",
   "execution_count": 23,
   "id": "9bd49130",
   "metadata": {},
   "outputs": [],
   "source": [
    "cols = ['C1_1', 'C2_1', 'C3_1']\n",
    "for col in cols:\n",
    "    df20[col] = df20[col].replace(2, 0)"
   ]
  },
  {
   "cell_type": "markdown",
   "id": "8c6aa894",
   "metadata": {},
   "source": [
    "#### C1_2 일상생활의 불편함_시력 (1: 불편하지 않다, 2:불편한 편이다, 3:매우 불편하다, 9:비해당 (177개))\n",
    "#### C2_2 일상생활의 불편함_청력 (1: 불편하지 않다, 2:불편한 편이다, 3:매우 불편하다, 9:비해당 (177개))\n",
    "#### C3_2 일상생활의 불편함_씹기 (1: 불편하지 않다, 2:불편한 편이다, 3:매우 불편하다, 9:비해당 (177개))"
   ]
  },
  {
   "cell_type": "code",
   "execution_count": 24,
   "id": "d676ab9a",
   "metadata": {},
   "outputs": [],
   "source": [
    "mean_value = df20.loc[df20['C1_2'] != 9, 'C1_2'].mean()\n",
    "df20['C1_2'] = df20['C1_2'].replace(9, mean_value)\n",
    "mean_value = df20.loc[df20['C2_2'] != 9, 'C2_2'].mean()\n",
    "df20['C2_2'] = df20['C2_2'].replace(9, mean_value)\n",
    "mean_value = df20.loc[df20['C3_2'] != 9, 'C3_2'].mean()\n",
    "df20['C3_2'] = df20['C3_2'].replace(9, mean_value)"
   ]
  },
  {
   "cell_type": "markdown",
   "id": "49132aa2",
   "metadata": {},
   "source": [
    "#### C4 근력상태_의자나 침대에 앉았다가 일어나기 5회 반복\t(1:수행함 2:시도했으나 수행못함 3:수행 시도조차 못 하는 상태, 9:지금 하고싶지 않음 (486개))\n",
    " - 결측치의 값을 9에서 평균값으로 바꿔줍니다."
   ]
  },
  {
   "cell_type": "code",
   "execution_count": 25,
   "id": "857a2355",
   "metadata": {},
   "outputs": [],
   "source": [
    "mean_value = df20.loc[df20['C4'] != 9, 'C4'].mean()\n",
    "df20['C4'] = df20['C4'].replace(9, mean_value)"
   ]
  },
  {
   "cell_type": "markdown",
   "id": "ffa0e026",
   "metadata": {},
   "source": [
    "#### C5_{1-6} 동작수행 어려움 (1:전혀 어렵지 않다, 2:약간 어렵다, 3:매우 어렵다, 4:전혀 할 수 없다 5: 모르겠다)"
   ]
  },
  {
   "cell_type": "code",
   "execution_count": 26,
   "id": "ca97412b",
   "metadata": {},
   "outputs": [],
   "source": [
    "cols = [col for col in df20.columns if col.startswith('C5_')]\n",
    "for col in cols:\n",
    "    mean_value = df20.loc[df20[col] != 5, col].mean()\n",
    "    df20[col] = df20[col].replace(5, mean_value)"
   ]
  },
  {
   "cell_type": "markdown",
   "id": "a5874578",
   "metadata": {},
   "source": [
    "#### C10_1_2 장애정도 (1:심한 장애인(1-3급),  2:심하지 않은 장애인(4-6급), 9: 비해당) \n",
    " - 비장애인의 값을 9에서 0으로 바꿔줍니다\n",
    " - 1~3급 장애인의 값을 1에서 2로 바꿔줍니다.\n",
    " - 4~6급 장애인의 값을 2에서 1로 바꿔줍니다. "
   ]
  },
  {
   "cell_type": "code",
   "execution_count": 27,
   "id": "51a29b63",
   "metadata": {},
   "outputs": [],
   "source": [
    "df20['C10_1_2'] = df20['C10_1_2'].replace({9:0, 1:2, 2:1})"
   ]
  },
  {
   "cell_type": "markdown",
   "id": "f9559314",
   "metadata": {},
   "source": [
    "#### I1x1 인지기능_총점 (99: 비해당)\n",
    " - 비해당의 값을 99에서 평균치로 바꿔줍니다."
   ]
  },
  {
   "cell_type": "code",
   "execution_count": 28,
   "id": "2703b5f9",
   "metadata": {},
   "outputs": [],
   "source": [
    "mean_value = df20.loc[df20['I1x1'] != 99, 'I1x1'].mean()\n",
    "df20['I1x1'] = df20['I1x1'].replace(99, mean_value)"
   ]
  },
  {
   "cell_type": "markdown",
   "id": "e25fe3a2",
   "metadata": {},
   "source": [
    "## 건강상태관련 features 정리"
   ]
  },
  {
   "cell_type": "markdown",
   "id": "17f0b084",
   "metadata": {},
   "source": [
    "앞선 것과 같이 정리한 건강상태관련 features는 아래와 같습니다:"
   ]
  },
  {
   "cell_type": "code",
   "execution_count": 30,
   "id": "6bda6007",
   "metadata": {},
   "outputs": [],
   "source": [
    "# 모든 건강상태관련 features\n",
    "health_features = ['B1',\n",
    "                   'B2_3','B2_2L_1','B2_2L_2','B2_2L_3','B2_2L_4','B2_2L_5','B2_2L_6','B2_2L_7','B2_2L_8','B2_2L_9','B2_2L_10','B2_2L_11','B2_2L_12','B2_2L_13','B2_2L_14','B2_2L_15','B2_2L_16','B2_2L_17','B2_2L_18','B2_2L_19','B2_2L_20','B2_2L_21','B2_2L_22','B2_2L_23','B2_2L_24','B2_2L_25','B2_2L_26','B2_2L_27','B2_2L_28','B2_2L_29','B2_2L_30','B2_2L_31','B2_2L_32',\n",
    "                   'B3',\n",
    "                   'B4','B4_1_etc',\n",
    "                   'B5_1_etc_1','B5_1_etc_2','B5_2_etc_1','B5_2_etc_2',\n",
    "                   'B6_1','B6_2','B6_3','B6_4','B6_5','B6_6','B6_7','B6_8','B6_9','B6_10','B6_11','B6_12','B6_13','B6_14','B6_15',\n",
    "                   'B7',\n",
    "                   'B8','B8_1a',\n",
    "                   'B9','B9_1a','B9_2a','B9_3a',\n",
    "                   'B10_1','B10_3','B10_BMI',\n",
    "                   'B11_1','B11_2','B11_3_1','B11_3_2','B11_3_3','B11_4','B11_5','B11_6','B11_7','B11_8','B11_9','B11_10',\n",
    "                   'C1_1','C2_1','C3_1','C1_2','C2_2','C3_2',\n",
    "                   'C4',\n",
    "                   'C5_1','C5_2','C5_3','C5_4','C5_5','C5_6',\n",
    "                   'C6_1','C6_2','C6_3','C6_4','C6_5','C6_6','C6_7',\n",
    "                   'C7_1_1','C7_1_2','C7_1_3','C7_1_4','C7_1_5','C7_1_6','C7_1_7','C7_2_8','C7_2_9','C7_2_10',\n",
    "                   'C10_1_2',\n",
    "                   'I1x1'\n",
    "                  ]\n"
   ]
  },
  {
   "cell_type": "markdown",
   "id": "ba8cdf67",
   "metadata": {},
   "source": [
    "features의 총 갯수를 살펴보았습니다."
   ]
  },
  {
   "cell_type": "code",
   "execution_count": 31,
   "id": "f671f3dd",
   "metadata": {},
   "outputs": [
    {
     "data": {
      "text/plain": [
       "110"
      ]
     },
     "execution_count": 31,
     "metadata": {},
     "output_type": "execute_result"
    },
    {
     "data": {
      "text/plain": [
       "110"
      ]
     },
     "execution_count": 31,
     "metadata": {},
     "output_type": "execute_result"
    }
   ],
   "source": [
    "len(health_features)"
   ]
  },
  {
   "cell_type": "markdown",
   "id": "2b5e6c1a",
   "metadata": {},
   "source": [
    "건강관련 features는 총 110개입니다."
   ]
  },
  {
   "cell_type": "markdown",
   "id": "893fa9dd",
   "metadata": {},
   "source": [
    "### 제거를 고려할 features는 아래와 같습니다."
   ]
  },
  {
   "cell_type": "markdown",
   "id": "1b12f5d9",
   "metadata": {},
   "source": [
    "1. 의사진단 만성질환 총 수 (B2_3): 각각의 문항에 대한 결과가 포함되었기 때문에, 총 질환 수는 제외해도 될 것 같습니다.\n",
    "2. 운동 관련 수치 (B9_1a, B9_2a, B9_3a): B9_3a만 포함해도 될 것 같습니다.\n",
    "    - B9_1a 주당 운동 일수\n",
    "    - B9_2a 운동 시간(분)\n",
    "    - B9_3a 주당 운동 일수 x 운동시간\n",
    "3. 몸무게와 키 수치 (B10_1, B10_3, B10_BMI): BMI만 포함해도 될 것 같습니다\n",
    "    - B10_1 몸무게\n",
    "    - B10_3 키\n",
    "    - B10_BMI 몸무게/키\n",
    "    \n",
    "이를 고려했을 때, 제거할 features는 아래와 같습니다:"
   ]
  },
  {
   "cell_type": "code",
   "execution_count": 32,
   "id": "c9eb6727",
   "metadata": {},
   "outputs": [],
   "source": [
    "health_features_to_delete = ['B2_3','B9_1a','B9_2a','B10_1','B10_3']"
   ]
  },
  {
   "cell_type": "markdown",
   "id": "94115f09",
   "metadata": {},
   "source": [
    "#### 여기서 질문:\n",
    "아래와 같은 문항들이 있습니다:\n",
    " - B2_2L_{1-32}: 만성질환 i 유무\n",
    " - B6_{1_15} 우울증척도\n",
    " - B11_{1-10} 영양 관리 상태\n",
    " - C{1-3}_1 보조기 사용 여부 (시력,청력,씹기)\n",
    " - C{1-3}_2 일생생활의 불편함 (시력,청력,씹기)\n",
    " - C5_{1-6}: 동작수행 어려움\n",
    " - C6_{1-7}: 도움 필요 여부\n",
    " - C7_1_{1-7} 도움 필요 여부 \n",
    " - C7_2_{8-10}: 도움 필요 여부 \n",
    "\n",
    "이런 데이터는 모든 문항들을 넣는 것이 나을까요, 아니면 총점을 포함하는 것이 나을까요?\n",
    "일단 아래와 같이 합을 만들어놓았습니다:"
   ]
  },
  {
   "cell_type": "markdown",
   "id": "40072740",
   "metadata": {},
   "source": [
    "#### B2_3: B2_2L_{1-32}의 합 <만성질환 갯수>\n",
    " - 이미 있음 "
   ]
  },
  {
   "cell_type": "markdown",
   "id": "b605687c",
   "metadata": {},
   "source": [
    "#### B6_SUM: B6_{1_15} 의 합 <우울증 척도 총합>"
   ]
  },
  {
   "cell_type": "code",
   "execution_count": 33,
   "id": "3b87bdb1",
   "metadata": {},
   "outputs": [],
   "source": [
    "df20['B6_SUM'] = df20[['B6_1', 'B6_2', 'B6_3', 'B6_4', 'B6_5', 'B6_6', 'B6_7', 'B6_8', 'B6_9', 'B6_10', 'B6_11', 'B6_12', 'B6_13', 'B6_14', 'B6_15']].sum(axis=1)"
   ]
  },
  {
   "cell_type": "markdown",
   "id": "523247e2",
   "metadata": {},
   "source": [
    "#### B11_SUM: B11_{1-10}의 합 <영양관리상태 총합> "
   ]
  },
  {
   "cell_type": "code",
   "execution_count": 34,
   "id": "cb20cf82",
   "metadata": {},
   "outputs": [],
   "source": [
    "df20['B11_SUM'] = df20[['B11_1','B11_2','B11_3_1','B11_3_2','B11_3_3','B11_4','B11_5','B11_6','B11_7','B11_8','B11_9','B11_10']].sum(axis=1)"
   ]
  },
  {
   "cell_type": "markdown",
   "id": "831f9717",
   "metadata": {},
   "source": [
    "#### C_SUM_1: C{1-3}_1의 합 <보조기 사용 여부 (시력, 청력, 씹기)총합>\n",
    "#### C_SUM_2: C{1-3}_2의 합 <일상생활 불편함 (시력, 청력, 씹기)총합>"
   ]
  },
  {
   "cell_type": "code",
   "execution_count": 35,
   "id": "8bc2ba27",
   "metadata": {},
   "outputs": [],
   "source": [
    "df20['C_SUM_1'] = df20[['C1_1','C2_1','C3_1']].sum(axis=1)\n",
    "df20['C_SUM_2'] = df20[['C1_2','C2_2','C3_2']].sum(axis=1)"
   ]
  },
  {
   "cell_type": "markdown",
   "id": "828d9752",
   "metadata": {},
   "source": [
    "#### C5_SUM: C5_{1-6}의 합 <동작수행 어려움 총합>"
   ]
  },
  {
   "cell_type": "code",
   "execution_count": 36,
   "id": "ac848a09",
   "metadata": {},
   "outputs": [],
   "source": [
    "df20['C5_SUM'] = df20[['C5_1','C5_2','C5_3','C5_4','C5_5','C5_6']].sum(axis=1)"
   ]
  },
  {
   "cell_type": "code",
   "execution_count": 37,
   "id": "59f12c03",
   "metadata": {},
   "outputs": [],
   "source": [
    "C_6_7_SUM = df20"
   ]
  },
  {
   "cell_type": "code",
   "execution_count": null,
   "id": "fff83799",
   "metadata": {},
   "outputs": [],
   "source": []
  },
  {
   "cell_type": "code",
   "execution_count": null,
   "id": "2b8e7152",
   "metadata": {},
   "outputs": [],
   "source": []
  },
  {
   "cell_type": "code",
   "execution_count": null,
   "id": "48ec8b58",
   "metadata": {},
   "outputs": [],
   "source": []
  },
  {
   "cell_type": "code",
   "execution_count": null,
   "id": "5d77e783",
   "metadata": {},
   "outputs": [],
   "source": []
  },
  {
   "cell_type": "code",
   "execution_count": null,
   "id": "6bfe5c65",
   "metadata": {},
   "outputs": [],
   "source": []
  },
  {
   "cell_type": "code",
   "execution_count": null,
   "id": "abbd0679",
   "metadata": {},
   "outputs": [],
   "source": []
  },
  {
   "cell_type": "code",
   "execution_count": 38,
   "id": "18da6092",
   "metadata": {},
   "outputs": [
    {
     "data": {
      "image/png": "[encoded data removed]",
      "text/plain": [
       "<Figure size 720x432 with 1 Axes>"
      ]
     },
     "metadata": {
      "needs_background": "light"
     },
     "output_type": "display_data"
    },
    {
     "data": {
      "image/png": "[encoded data removed]",
      "text/plain": [
       "<Figure size 720x432 with 1 Axes>"
      ]
     },
     "metadata": {
      "needs_background": "light"
     },
     "output_type": "display_data"
    }
   ],
   "source": [
    "values = df20['C5_SUM'].value_counts()\n",
    "labels = values.index\n",
    "\n",
    "plt.figure(figsize=(10,6))\n",
    "bars = plt.bar(labels, values)\n",
    "\n",
    "# Add counts on top of each bar\n",
    "for bar in bars:\n",
    "    yval = bar.get_height()\n",
    "    plt.text(bar.get_x() + bar.get_width()/2, yval + 0.5, yval, ha='center', va='bottom')\n",
    "\n",
    "plt.title('Bar Chart of df20[B1]')\n",
    "plt.xlabel('Categories')\n",
    "plt.ylabel('Counts')\n",
    "plt.show()"
   ]
  },
  {
   "cell_type": "code",
   "execution_count": 39,
   "id": "b52b2107",
   "metadata": {},
   "outputs": [],
   "source": [
    "# 결측치 제거\n",
    "df20 = df20[df20['B1'] != 9]"
   ]
  },
  {
   "cell_type": "code",
   "execution_count": 40,
   "id": "e7490c54",
   "metadata": {},
   "outputs": [
    {
     "data": {
      "text/plain": [
       "count    10097.000000\n",
       "mean         0.148856\n",
       "std          4.935191\n",
       "min          0.000000\n",
       "25%          0.000000\n",
       "50%          0.000000\n",
       "75%          0.000000\n",
       "max        365.000000\n",
       "Name: B5_1_etc_2, dtype: float64"
      ]
     },
     "execution_count": 40,
     "metadata": {},
     "output_type": "execute_result"
    },
    {
     "data": {
      "text/plain": [
       "count    10097.000000\n",
       "mean         0.148856\n",
       "std          4.935191\n",
       "min          0.000000\n",
       "25%          0.000000\n",
       "50%          0.000000\n",
       "75%          0.000000\n",
       "max        365.000000\n",
       "Name: B5_1_etc_2, dtype: float64"
      ]
     },
     "execution_count": 40,
     "metadata": {},
     "output_type": "execute_result"
    }
   ],
   "source": [
    "df20['B5_1_etc_2'].describe()"
   ]
  },
  {
   "cell_type": "code",
   "execution_count": null,
   "id": "41f630b9",
   "metadata": {},
   "outputs": [],
   "source": []
  }
 ],
 "metadata": {
  "kernelspec": {
   "display_name": "Python 3 (ipykernel)",
   "language": "python",
   "name": "python3"
  },
  "language_info": {
   "codemirror_mode": {
    "name": "ipython",
    "version": 3
   },
   "file_extension": ".py",
   "mimetype": "text/x-python",
   "name": "python",
   "nbconvert_exporter": "python",
   "pygments_lexer": "ipython3",
   "version": "3.9.12"
  }
 },
 "nbformat": 4,
 "nbformat_minor": 5
}
